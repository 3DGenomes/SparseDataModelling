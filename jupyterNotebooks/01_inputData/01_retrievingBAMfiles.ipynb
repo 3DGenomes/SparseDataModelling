{
 "cells": [
  {
   "cell_type": "markdown",
   "metadata": {},
   "source": [
    "To go from the FASTQ files to the processed BAM files, please follow the TADbit tutorial:  \n",
    "\n",
    "1-https://github.com/3DGenomes/MethodsMolBiol/blob/master/Notebooks/Methods-3-Hi-C%20quality%20check.ipynb  \n",
    "\n",
    "2-https://github.com/3DGenomes/MethodsMolBiol/blob/master/Notebooks/Methods-4-Mapping.ipynb  \n",
    "\n",
    "3-https://github.com/3DGenomes/MethodsMolBiol/blob/master/Notebooks/Methods-5-Parsing%20mapped%20reads.ipynb  \n",
    "\n",
    "4-https://github.com/3DGenomes/MethodsMolBiol/blob/master/Notebooks/Methods-6-Filtering%20mapped%20reads.ipynb"
   ]
  },
  {
   "cell_type": "markdown",
   "metadata": {},
   "source": [
    "In our work we obtained the FASTQ files of pcHi-C data for Erythroblasts, naive CD4+ T-cells and Monocytes from EGAS00001001911 (https://www.ebi.ac.uk/ega/studies/EGAS00001001911)"
   ]
  }
 ],
 "metadata": {
  "kernelspec": {
   "display_name": "Python 2",
   "language": "python",
   "name": "python2"
  },
  "language_info": {
   "codemirror_mode": {
    "name": "ipython",
    "version": 2
   },
   "file_extension": ".py",
   "mimetype": "text/x-python",
   "name": "python",
   "nbconvert_exporter": "python",
   "pygments_lexer": "ipython2",
   "version": "2.7.16"
  },
  "toc": {
   "base_numbering": 1,
   "nav_menu": {},
   "number_sections": true,
   "sideBar": true,
   "skip_h1_title": false,
   "title_cell": "Table of Contents",
   "title_sidebar": "Contents",
   "toc_cell": false,
   "toc_position": {},
   "toc_section_display": true,
   "toc_window_display": false
  }
 },
 "nbformat": 4,
 "nbformat_minor": 2
}
