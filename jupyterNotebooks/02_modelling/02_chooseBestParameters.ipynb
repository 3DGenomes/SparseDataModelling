{
 "cells": [
  {
   "cell_type": "markdown",
   "metadata": {},
   "source": [
    "In this Notebook we will visually display the correlation data obtained in 01_exploreBestParameters.ipynb. This will allow us to define the best optimisation parameters to compute the final ensemble of chromatin 3D models.\n"
   ]
  },
  {
   "cell_type": "markdown",
   "metadata": {},
   "source": [
    "# Libraries and functions"
   ]
  },
  {
   "cell_type": "code",
   "execution_count": 1,
   "metadata": {},
   "outputs": [],
   "source": [
    "import sys"
   ]
  },
  {
   "cell_type": "markdown",
   "metadata": {},
   "source": [
    "# Parameters to modify"
   ]
  },
  {
   "cell_type": "code",
   "execution_count": 2,
   "metadata": {},
   "outputs": [],
   "source": [
    "## Data Paths (Location of the base folder downloaded from GitHub)\n",
    "basePath = '/home/julen/TADdyn/TADdyn_tutorial/'\n",
    "\n",
    "# This notebook requires further changes in the section \"Generate file \n",
    "# with top parameters\" to select the best paramteres for the modelling"
   ]
  },
  {
   "cell_type": "markdown",
   "metadata": {},
   "source": [
    "# Run "
   ]
  },
  {
   "cell_type": "markdown",
   "metadata": {},
   "source": [
    "## Define additional paths "
   ]
  },
  {
   "cell_type": "code",
   "execution_count": 3,
   "metadata": {},
   "outputs": [],
   "source": [
    "scriptsPath = basePath + 'code/modellingScripts/'\n",
    "GeneralOptimOutPath = basePath + 'optimization/'"
   ]
  },
  {
   "cell_type": "markdown",
   "metadata": {},
   "source": [
    "## Import additional libraries "
   ]
  },
  {
   "cell_type": "code",
   "execution_count": 4,
   "metadata": {},
   "outputs": [],
   "source": [
    "sys.path.append(basePath + 'code')\n",
    "import fileHandling\n",
    "import plotting\n",
    "sys.path.append(basePath + 'code/modellingScripts')\n",
    "import Check_optimization"
   ]
  },
  {
   "cell_type": "markdown",
   "metadata": {},
   "source": [
    "## Get matrix paths "
   ]
  },
  {
   "cell_type": "code",
   "execution_count": 5,
   "metadata": {},
   "outputs": [],
   "source": [
    "matricesLength, regionsAll, matrices = fileHandling.getMatricesPaths(basePath, starting='Matrix')"
   ]
  },
  {
   "cell_type": "markdown",
   "metadata": {},
   "source": [
    "## Join output files "
   ]
  },
  {
   "cell_type": "markdown",
   "metadata": {},
   "source": [
    "To be more clean and have the results more handy, we will combine the correlation values splited in each parameter combination file into a single file per different dcutoff values."
   ]
  },
  {
   "cell_type": "code",
   "execution_count": 6,
   "metadata": {},
   "outputs": [
    {
     "name": "stdout",
     "output_type": "stream",
     "text": [
      "--- b-globin ---\n",
      "## nCD4 ##\n",
      "/home/julen/TADdyn/TADdyn_tutorial/optimization/nCD4/b-globin/\n",
      "## Ery ##\n",
      "/home/julen/TADdyn/TADdyn_tutorial/optimization/Ery/b-globin/\n",
      "C200.0 40\n",
      "C100.0 40\n",
      "C400.0 10\n",
      "C300.0 30\n",
      "## Mon ##\n",
      "/home/julen/TADdyn/TADdyn_tutorial/optimization/Mon/b-globin/\n"
     ]
    }
   ],
   "source": [
    "for regi in regionsAll:\n",
    "    print('--- %s ---' %regi)\n",
    "    for cell in matrices:\n",
    "        print('## %s ##' %(cell))\n",
    "        scriptp = basePath + 'code/modellingScripts/optTXTparser.py'\n",
    "        inPath = '/'.join(matrices[cell][regi].split('/')[:-1]) + '/'\n",
    "        outPath = basePath + 'optimization/%s/%s/' %(cell, regi)\n",
    "        # create folder if absent\n",
    "        ! mkdir -p {outPath}\n",
    "        # run script\n",
    "        ! python {scriptp} -pi {inPath} -po {outPath} -j yes"
   ]
  },
  {
   "cell_type": "markdown",
   "metadata": {},
   "source": [
    "## Check best dcutoff "
   ]
  },
  {
   "cell_type": "markdown",
   "metadata": {},
   "source": [
    "This step allows us to decide the optimal dcutoff for the modelling. In this example we just prepared the optimisation in one interaction matrix (b-globin of Ery). See how the correlation values descend when increasing and decreasing the dcutoff value. In this case a dcutoff of 300 would be the best option, since its correlation values are higher than values above and bellow.   \n",
    "\n",
    "NOTE: when interaction matrices from different cell type or stages want to be compared, even if not the optimal in all, we should select a dcutoff that fits best all the matrices."
   ]
  },
  {
   "cell_type": "code",
   "execution_count": 7,
   "metadata": {},
   "outputs": [
    {
     "name": "stdout",
     "output_type": "stream",
     "text": [
      "--- b-globin ---\n",
      "## nCD4 ##\n",
      "No files in nCD4_b-globin\n",
      "## Ery ##\n",
      "300.0\t1\n"
     ]
    },
    {
     "data": {
      "image/png": "[encoded data removed]",
      "text/plain": [
       "<Figure size 1440x360 with 1 Axes>"
      ]
     },
     "metadata": {
      "needs_background": "light"
     },
     "output_type": "display_data"
    },
    {
     "name": "stdout",
     "output_type": "stream",
     "text": [
      "## Mon ##\n",
      "No files in Mon_b-globin\n"
     ]
    }
   ],
   "source": [
    "for regi in regionsAll:\n",
    "    print('--- %s ---' %regi)\n",
    "    for cell in matrices:\n",
    "        print('## %s ##' %(cell))\n",
    "        optimPaths = [basePath + 'optimization/%s/%s/' %(cell, regi)]\n",
    "        topCor = Check_optimization.checkAll(GeneralOptimOutPath, optimPaths, show_dcut=True, \n",
    "                                             dcut=False, topModels=False)"
   ]
  },
  {
   "cell_type": "markdown",
   "metadata": {},
   "source": [
    "This step allows us to decide the optimal dcutoff for the modelling"
   ]
  },
  {
   "cell_type": "markdown",
   "metadata": {},
   "source": [
    "## Check best maxdist "
   ]
  },
  {
   "cell_type": "markdown",
   "metadata": {},
   "source": [
    "Here we found that the best correlationw as obtained with maxdist 300"
   ]
  },
  {
   "cell_type": "code",
   "execution_count": 8,
   "metadata": {},
   "outputs": [
    {
     "name": "stdout",
     "output_type": "stream",
     "text": [
      "--- b-globin ---\n",
      "## nCD4 ##\n",
      "No files in nCD4_b-globin\n",
      "## Ery ##\n",
      "300.0\t1\n"
     ]
    },
    {
     "data": {
      "image/png": "[encoded data removed]",
      "text/plain": [
       "<Figure size 1440x360 with 1 Axes>"
      ]
     },
     "metadata": {
      "needs_background": "light"
     },
     "output_type": "display_data"
    },
    {
     "name": "stdout",
     "output_type": "stream",
     "text": [
      "## Mon ##\n",
      "No files in Mon_b-globin\n"
     ]
    }
   ],
   "source": [
    "topDuctoff = 200\n",
    "for regi in regionsAll:\n",
    "    print('--- %s ---' %regi)\n",
    "    for cell in matrices:\n",
    "        print('## %s ##' %(cell))\n",
    "        optimPaths = [basePath + 'optimization/%s/%s/' %(cell, regi)]\n",
    "        topCor = Check_optimization.checkAll(GeneralOptimOutPath, optimPaths, show_dcut=False, \n",
    "                                             dcut=topDuctoff, topModels=False)"
   ]
  },
  {
   "cell_type": "markdown",
   "metadata": {},
   "source": [
    "## Generate file with top parameters "
   ]
  },
  {
   "cell_type": "markdown",
   "metadata": {},
   "source": [
    "We will create a file called modellinParams.txt in the optimisation folder before the folders of each cell and region. This file will contain the parameters with the top correlation for the given dcutoff and maxdist. These files are created to facilitate the modelling process, but the selected parameter combinations should be checked in advance to running the final modelling step.   \n",
    "\n",
    "In the case of Ery, the best combination of paramteres for the final ensemble of models was set to:  \n",
    "lowfreq = 0.0  \n",
    "upfreq = 0.0  \n",
    "maxdist = 300    \n",
    "dcutoff = 200 # NOTE: this is set to 200 as is the best parameter for the comparative analyis with Mon and nCD4"
   ]
  },
  {
   "cell_type": "code",
   "execution_count": 9,
   "metadata": {},
   "outputs": [
    {
     "name": "stdout",
     "output_type": "stream",
     "text": [
      "/home/julen/TADdyn/TADdyn_tutorial/optimization/nCD4/b-globin/\n",
      "/home/julen/TADdyn/TADdyn_tutorial/optimization/Ery/b-globin/\n",
      "200.0 300.0\n",
      "/home/julen/TADdyn/TADdyn_tutorial/optimization/Mon/b-globin/\n"
     ]
    }
   ],
   "source": [
    "## MODIFY THIS VALUES ACCORDING TO YOUR RESULTS\n",
    "# gather top dcutoff and maxdist parameters\n",
    "topDuctoff = 200\n",
    "topMaxdist = 300\n",
    "\n",
    "\n",
    "## get file with top optimization paramteres to model\n",
    "inputPaths = [[],[]]\n",
    "for regi in regionsAll:\n",
    "    for cell in matrices:\n",
    "        matrixPaths = matrices[cell][regi]\n",
    "        optimPaths = basePath + 'optimization/%s/%s/' %(cell, regi)\n",
    "        inputPaths[0] += [matrixPaths]\n",
    "        inputPaths[1] += [optimPaths]\n",
    "        \n",
    "\n",
    "        \n",
    "topModels = '%s_%s' %(topDuctoff, topMaxdist)\n",
    "topCorrelations=Check_optimization.checkAll(GeneralOptimOutPath, [inputPaths[0],\n",
    "                                                                  inputPaths[1]], \n",
    "                                            show_dcut=False, dcut=False, topModels=topModels)"
   ]
  },
  {
   "cell_type": "code",
   "execution_count": 10,
   "metadata": {},
   "outputs": [
    {
     "name": "stdout",
     "output_type": "stream",
     "text": [
      "{'Ery': {'b-globin': [300.0, 0.0, 0.0, 200.0, 0.7869859924901681]}}\n"
     ]
    }
   ],
   "source": [
    "print topCorrelations"
   ]
  },
  {
   "cell_type": "markdown",
   "metadata": {},
   "source": [
    "The code bellow will produce a plot with the correlation values associated with the \"topDuctoff\" to assess the chosen top parameters. The best correlation should usually be surrounded by, or nearby to, other top ranked correlation values in the following plot"
   ]
  },
  {
   "cell_type": "code",
   "execution_count": 11,
   "metadata": {},
   "outputs": [
    {
     "name": "stderr",
     "output_type": "stream",
     "text": [
      "WARNING: this is an empty shell, no data here.\n"
     ]
    },
    {
     "name": "stdout",
     "output_type": "stream",
     "text": [
      "200.0\n"
     ]
    },
    {
     "data": {
      "image/png": "[encoded data removed]",
      "text/plain": [
       "<Figure size 288x216 with 16 Axes>"
      ]
     },
     "metadata": {
      "needs_background": "light"
     },
     "output_type": "display_data"
    }
   ],
   "source": [
    "# Here we define the number of models we did in the optimisation, and how many of them we kept\n",
    "nmodels = 100\n",
    "nkeep = 100  \n",
    "\n",
    "for nm, matPath in enumerate(inputPaths[0]):\n",
    "    plotting.optimPlot1(matPath, inputPaths[1][nm], nmodels = nmodels, \n",
    "                        nkeep = nkeep, ductoff=topDuctoff)\n"
   ]
  }
 ],
 "metadata": {
  "kernelspec": {
   "display_name": "Python 2",
   "language": "python",
   "name": "python2"
  },
  "language_info": {
   "codemirror_mode": {
    "name": "ipython",
    "version": 2
   },
   "file_extension": ".py",
   "mimetype": "text/x-python",
   "name": "python",
   "nbconvert_exporter": "python",
   "pygments_lexer": "ipython2",
   "version": "2.7.16"
  },
  "toc": {
   "base_numbering": 1,
   "nav_menu": {},
   "number_sections": true,
   "sideBar": true,
   "skip_h1_title": false,
   "title_cell": "Table of Contents",
   "title_sidebar": "Contents",
   "toc_cell": false,
   "toc_position": {},
   "toc_section_display": true,
   "toc_window_display": false
  }
 },
 "nbformat": 4,
 "nbformat_minor": 2
}
