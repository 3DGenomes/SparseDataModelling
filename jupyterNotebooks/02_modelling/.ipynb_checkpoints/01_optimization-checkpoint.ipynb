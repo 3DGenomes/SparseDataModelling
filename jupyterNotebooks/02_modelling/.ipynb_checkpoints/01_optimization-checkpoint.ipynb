{
 "cells": [
  {
   "cell_type": "markdown",
   "metadata": {},
   "source": [
    "# Libraries and functions "
   ]
  },
  {
   "cell_type": "code",
   "execution_count": 1,
   "metadata": {},
   "outputs": [],
   "source": [
    "from taddyn import Chromosome, Experiment\n",
    "import numpy as np\n",
    "import os\n",
    "import shutil\n",
    "from taddyn.modelling.impoptimizer  import IMPoptimizer\n",
    "import copy\n",
    "import sys\n",
    "import datetime"
   ]
  },
  {
   "cell_type": "code",
   "execution_count": 2,
   "metadata": {},
   "outputs": [],
   "source": [
    "def cToDot(text):\n",
    "    newText = ''\n",
    "    for t in text:\n",
    "        if t == 'c':\n",
    "            newText += '.'\n",
    "        elif t == 'n':\n",
    "            newText += '-'\n",
    "        else:\n",
    "            newText += t\n",
    "    return newText\n",
    "\n",
    "def dotToC(text):\n",
    "    newText = ''\n",
    "    for t in text:\n",
    "        if t == '.':\n",
    "            newText += 'c'\n",
    "        elif t == '-':\n",
    "            newText += 'n'\n",
    "        else:\n",
    "            newText += t\n",
    "    return newText\n",
    "\n",
    "def getParamCombi(lowfreq_arange, m_range, c_rangeDot, upfreq_range, \n",
    "                 scriptsPath, dcutoff_range, matPath, jobTime, nmodels,\n",
    "                 tempOut, cpu=False):\n",
    "    # Create a counter for the different lammps output directories\n",
    "    allCombi = []\n",
    "    ## Create the file with the commands to be run in the array\n",
    "    #fout=open(runfile,'w')\n",
    "    for x in lowfreq_arange:\n",
    "        for m in m_range:\n",
    "            # check if we have a dcutoff small enough compared to maxdist to allow running\n",
    "            # we allow an overlap of 50nm between maxdist and dcutoff\n",
    "            if m - float(cToDot(c_rangeDot).split('_')[0]) >= -50:\n",
    "                for u in upfreq_range:\n",
    "                    if u >= x:\n",
    "                        cmd=''\n",
    "                        cmd+='%s01_NR_optimisation.py -l %s '%(scriptsPath, x)\n",
    "                        cmd+= '-d %s '%c_rangeDot\n",
    "                        cmd+= '-m %s '%m\n",
    "                        cmd+= '-u %s '%u\n",
    "                        cmd+= '-p %s '%matPath\n",
    "                        cmd+= '-t %s '%jobTime\n",
    "                        cmd+= '-nm %s '%str(nmodels)\n",
    "                        if cpu != False:\n",
    "                            cmd+= '-cpu %s '%str(cpu)\n",
    "                        cmd+= '-tp %s'%(tempOut)\n",
    "                        #cmd+= '\\n'\n",
    "                        allCombi += [cmd]\n",
    "                        #fout.write(cmd)\n",
    "    #fout.close()\n",
    "    return allCombi\n",
    "\n",
    "def stimateTime(nparticle):\n",
    "    return 0.001*nparticle**2 + (-0.135*nparticle) + 48.116"
   ]
  },
  {
   "cell_type": "markdown",
   "metadata": {},
   "source": [
    "# Parameters to modify"
   ]
  },
  {
   "cell_type": "raw",
   "metadata": {},
   "source": [
    "Now we will define the parameter combinations in which we will check how well the models represent the input data.\n",
    "\n",
    "The interaction matrix should be included inside a structure of folders without '_'. Preferentially nested inside of a folder that differentiates first the cell type and then the project or regions. Then it must start by Matrix, and contain the following elements separated by '_':\n",
    ".../Cell/Project/[Matrix]_[Cell]_[region]_[Chromosome]-[startCoord]-[EndCoord]_[resolution]bp\n",
    "Example:\n",
    ".../Ery/b-globin/MatrixNormFreqFiltrd_Ery_b-globin_chr11-4615000-6175000_5000bp\n",
    "In this example, all matrices will be in a tree of folders inside matrices"
   ]
  },
  {
   "cell_type": "code",
   "execution_count": 3,
   "metadata": {},
   "outputs": [],
   "source": [
    "## Optimisation parameters\n",
    "lowfreq_arange = np.arange(-1.0,1.0,0.5)\n",
    "# Cutoff no more overlap than 50nm with maxdist will be allowed\n",
    "# should be smaller than maxdist and around \"resol * scale * 2\"\n",
    "# scale by default = 0.01\n",
    "dcutoff_range= [100,400,100]  # start, end + step, step \n",
    "m_range= np.arange(200,500,100)\n",
    "upfreq_range= np.arange(-1,1.0,0.5)\n",
    "cpus = 8 # number of CPU to use\n",
    "\n",
    "nmodels = 100\n",
    "jobTime = '0-08:00:00' # days-hours:minutes:seconds of maximum running time per job\n",
    "\n",
    "## Data Paths (Location of the base folder downloaded from GitHub)\n",
    "basePath = '/home/julen/TADdyn/TADdyn_tutorial/'"
   ]
  },
  {
   "cell_type": "markdown",
   "metadata": {},
   "source": [
    "# Run"
   ]
  },
  {
   "cell_type": "markdown",
   "metadata": {},
   "source": [
    "## Define additional paths "
   ]
  },
  {
   "cell_type": "code",
   "execution_count": 4,
   "metadata": {},
   "outputs": [],
   "source": [
    "scriptsPath = basePath + 'code/modellingScripts/'\n",
    "tempOut = basePath + 'temporal/'"
   ]
  },
  {
   "cell_type": "markdown",
   "metadata": {},
   "source": [
    "## Import additional libraries  "
   ]
  },
  {
   "cell_type": "code",
   "execution_count": 5,
   "metadata": {},
   "outputs": [],
   "source": [
    "sys.path.append(basePath + 'code')\n",
    "import fileHandling"
   ]
  },
  {
   "cell_type": "markdown",
   "metadata": {},
   "source": [
    "## Get matrix paths "
   ]
  },
  {
   "cell_type": "code",
   "execution_count": 6,
   "metadata": {},
   "outputs": [],
   "source": [
    "matricesLength, regionsAll, matrices = fileHandling.getMatricesPaths(basePath, starting='Matrix')"
   ]
  },
  {
   "cell_type": "markdown",
   "metadata": {},
   "source": [
    "## First run of data "
   ]
  },
  {
   "cell_type": "markdown",
   "metadata": {},
   "source": [
    "### Get combinations of paramteres and run commands "
   ]
  },
  {
   "cell_type": "code",
   "execution_count": 34,
   "metadata": {},
   "outputs": [],
   "source": [
    "combinations = {}\n",
    "for cell in matrices:\n",
    "    combinations[cell] = {}\n",
    "    for regi in matrices[cell]:\n",
    "        matPath = matrices[cell][regi]\n",
    "        c_rangeDot= dotToC('_'.join(str(j) for j in dcutoff_range))\n",
    "        combinations[cell][regi] = getParamCombi(lowfreq_arange, m_range, c_rangeDot, upfreq_range, \n",
    "                         scriptsPath, dcutoff_range, matPath, jobTime, nmodels,\n",
    "                         tempOut, cpu=cpus)"
   ]
  },
  {
   "cell_type": "markdown",
   "metadata": {},
   "source": [
    "### Stimate total modelling time"
   ]
  },
  {
   "cell_type": "code",
   "execution_count": 8,
   "metadata": {},
   "outputs": [
    {
     "name": "stdout",
     "output_type": "stream",
     "text": [
      "--- b-globin ---\n",
      "Counting 3 cells\n",
      "9000 models will be computed, in a median stimated time (with 1 CPU) of 84 days, 4:46:30\n",
      "Stimated time with assigned number of 8 CPU's: 10 days, 12:35:48.750000\n",
      "\n"
     ]
    }
   ],
   "source": [
    "for regi in regionsAll:\n",
    "    print('--- %s ---' %regi)\n",
    "    ncell = len(matrices.keys())\n",
    "    print('Counting %s cells' %ncell)\n",
    "    ncombi = len(combinations[cell][regi]) * ncell\n",
    "    \n",
    "    # each combination has n models, so we need to multiply\n",
    "    totalModels = ncombi * nmodels\n",
    "    \n",
    "    # Finally we get the total time to do all the models in each region\n",
    "    timePerModel = stimateTime(matricesLength[regi])\n",
    "    totalTime = totalModels * timePerModel\n",
    "    totalTime2 = str(datetime.timedelta(seconds=totalTime))\n",
    "    \n",
    "    print('%s models will be computed, in a median stimated time (with 1 CPU) of %s' %(\n",
    "                                        totalModels, totalTime2))\n",
    "    \n",
    "    totalTime2 = str(datetime.timedelta(seconds=totalTime/cpus))\n",
    "    print(\"Stimated time with assigned number of %s CPU's: %s\" %(cpus,\n",
    "                                        totalTime2))\n",
    "    print('')"
   ]
  },
  {
   "cell_type": "markdown",
   "metadata": {},
   "source": [
    "### Run optimization "
   ]
  },
  {
   "cell_type": "raw",
   "metadata": {},
   "source": [
    "Output files with the correlation of the models from each of the combinations will be stored in the same folder as each of the matrix. \n",
    "I.E.: opt_LF-1.0UF0.0C100.0-200.0-300.0Mdis200_5000bp.txt\n",
    "In the same folder, a folder called lammpsSteps will be created to store the models of the combinations that yet need to be started or finished without computing the asked number of models."
   ]
  },
  {
   "cell_type": "code",
   "execution_count": 18,
   "metadata": {},
   "outputs": [
    {
     "name": "stdout",
     "output_type": "stream",
     "text": [
      "## Ery ##\n",
      "--- b-globin ---\n",
      "Combination 0\n",
      "####\n",
      "Experiment test:\n",
      "   resolution        : 5 kb\n",
      "   TADs              : None\n",
      "   Hi-C rows         : 942\n",
      "   normalized        : visibility\n",
      "   identifier        : GM128Rao\n",
      "   cell type         : UNKNOWN\n",
      "   restriction enzyme: UNKNOWN\n",
      "\n",
      "942\n",
      "WARNING: this is an empty shell, no data here.\n",
      "Optimizing 80 particles\n",
      "  num scale\tkbending\tmaxdist\tlowfreq\tupfreq\tdcutoff\tcorrelation\n",
      "Performing minimization run...\n",
      "Performing minimization run...\n",
      "Performing minimization run...\n",
      "Performing minimization run...\n",
      "Performing minimization run...\n",
      "Performing minimization run...\n",
      "Performing minimization run...\n",
      "Performing minimization run...\n",
      "Performing minimization run...\n",
      "Performing minimization run...\n",
      "WARNING: not all models produced: step 1, nmodels=11\n",
      "  1   0.01 \t0       \t200    \t-1     \t-1    \t200    0.4514\n",
      "  2   0.01 \t0       \t200    \t-1     \t-1    \t100    0.7238\n",
      "All models finished correctly\n",
      "Combination 1\n",
      "####\n",
      "Experiment test:\n",
      "   resolution        : 5 kb\n",
      "   TADs              : None\n",
      "   Hi-C rows         : 942\n",
      "   normalized        : visibility\n",
      "   identifier        : GM128Rao\n",
      "   cell type         : UNKNOWN\n",
      "   restriction enzyme: UNKNOWN\n",
      "\n",
      "942\n",
      "WARNING: this is an empty shell, no data here.\n",
      "Optimizing 80 particles\n",
      "  num scale\tkbending\tmaxdist\tlowfreq\tupfreq\tdcutoff\tcorrelation\n",
      "Performing minimization run...\n",
      "Performing minimization run...\n",
      "Performing minimization run...\n",
      "Performing minimization run...\n",
      "Performing minimization run...\n",
      "Performing minimization run...\n",
      "Performing minimization run...\n",
      "Performing minimization run...\n",
      "Performing minimization run...\n",
      "Performing minimization run...\n",
      "WARNING: not all models produced: step 1, nmodels=11\n",
      "  1   0.01 \t0       \t200    \t-1     \t-0.5  \t200    0.6092\n",
      "  2   0.01 \t0       \t200    \t-1     \t-0.5  \t100    0.7106\n",
      "All models finished correctly\n",
      "Combination 2\n",
      "####\n",
      "Experiment test:\n",
      "   resolution        : 5 kb\n",
      "   TADs              : None\n",
      "   Hi-C rows         : 942\n",
      "   normalized        : visibility\n",
      "   identifier        : GM128Rao\n",
      "   cell type         : UNKNOWN\n",
      "   restriction enzyme: UNKNOWN\n",
      "\n",
      "942\n",
      "WARNING: this is an empty shell, no data here.\n",
      "Optimizing 80 particles\n",
      "  num scale\tkbending\tmaxdist\tlowfreq\tupfreq\tdcutoff\tcorrelation\n",
      "Performing minimization run...\n",
      "Performing minimization run...\n",
      "Performing minimization run...\n",
      "Performing minimization run...\n",
      "Performing minimization run...\n",
      "Performing minimization run...\n",
      "Performing minimization run...\n",
      "Performing minimization run...\n",
      "Performing minimization run...\n",
      "Performing minimization run...\n",
      "WARNING: not all models produced: step 1, nmodels=11\n",
      "  1   0.01 \t0       \t200    \t-1     \t0     \t200    0.7087\n",
      "  2   0.01 \t0       \t200    \t-1     \t0     \t100    0.7483\n",
      "All models finished correctly\n",
      "Combination 3\n",
      "####\n",
      "Experiment test:\n",
      "   resolution        : 5 kb\n",
      "   TADs              : None\n",
      "   Hi-C rows         : 942\n",
      "   normalized        : visibility\n",
      "   identifier        : GM128Rao\n",
      "   cell type         : UNKNOWN\n",
      "   restriction enzyme: UNKNOWN\n",
      "\n",
      "942\n",
      "WARNING: this is an empty shell, no data here.\n",
      "Optimizing 80 particles\n",
      "  num scale\tkbending\tmaxdist\tlowfreq\tupfreq\tdcutoff\tcorrelation\n",
      "Performing minimization run...\n",
      "Performing minimization run...\n",
      "Performing minimization run...\n",
      "Performing minimization run...\n",
      "Performing minimization run...\n",
      "Performing minimization run...\n",
      "Performing minimization run...\n",
      "Performing minimization run...\n",
      "Performing minimization run...\n",
      "Performing minimization run...\n",
      "WARNING: not all models produced: step 1, nmodels=11\n",
      "  1   0.01 \t0       \t200    \t-1     \t0.5   \t200    0.7316\n",
      "  2   0.01 \t0       \t200    \t-1     \t0.5   \t100    0.7385\n",
      "All models finished correctly\n",
      "Combination 4\n",
      "####\n",
      "Experiment test:\n",
      "   resolution        : 5 kb\n",
      "   TADs              : None\n",
      "   Hi-C rows         : 942\n",
      "   normalized        : visibility\n",
      "   identifier        : GM128Rao\n",
      "   cell type         : UNKNOWN\n",
      "   restriction enzyme: UNKNOWN\n",
      "\n",
      "942\n",
      "WARNING: this is an empty shell, no data here.\n",
      "Optimizing 80 particles\n",
      "  num scale\tkbending\tmaxdist\tlowfreq\tupfreq\tdcutoff\tcorrelation\n",
      "Performing minimization run...\n",
      "Performing minimization run...\n",
      "Performing minimization run...\n",
      "Performing minimization run...\n",
      "Performing minimization run...\n",
      "Performing minimization run...\n",
      "Performing minimization run...\n",
      "Performing minimization run...\n",
      "Performing minimization run...\n",
      "Performing minimization run...\n",
      "WARNING: not all models produced: step 1, nmodels=11\n",
      "  1   0.01 \t0       \t300    \t-1     \t-1    \t200    0.7707\n",
      "  2   0.01 \t0       \t300    \t-1     \t-1    \t300    0.2205\n",
      "  4   0.01 \t0       \t300    \t-1     \t-1    \t100    0.6622\n",
      "All models finished correctly\n"
     ]
    }
   ],
   "source": [
    "for cell in combinations:\n",
    "    print('## %s ##' %(cell))\n",
    "    for regi in combinations[cell]:\n",
    "        print('--- %s ---' %regi)\n",
    "        for nc, combi in enumerate(combinations[cell][regi]):\n",
    "            print('Combination %s' %(nc))\n",
    "            ! python {combi}"
   ]
  },
  {
   "cell_type": "markdown",
   "metadata": {},
   "source": [
    "## Continue re-runing until all models finish "
   ]
  },
  {
   "cell_type": "raw",
   "metadata": {},
   "source": [
    "Some models break due to the inposition of not suitable restrains. In these cases we restart them starting from a different initial random positioning of the particles"
   ]
  },
  {
   "cell_type": "code",
   "execution_count": 36,
   "metadata": {},
   "outputs": [
    {
     "name": "stdout",
     "output_type": "stream",
     "text": [
      "## Mon ##\n",
      "--- b-globin ---\n",
      "## Ery ##\n",
      "--- b-globin ---\n",
      "## nCD4 ##\n",
      "--- b-globin ---\n"
     ]
    }
   ],
   "source": [
    "## we will rerun the models until we finish all them or we reach \n",
    "# 10 steps\n",
    "combinations_t = copy.deepcopy(combinations)\n",
    "for cell in combinations_t:\n",
    "    print('## %s ##' %(cell))\n",
    "    for regi in combinations_t[cell]:\n",
    "        print('--- %s ---' %regi)\n",
    "        matPath = matrices[cell][regi]\n",
    "        nchecks = 0\n",
    "        while len(combinations_t[cell][regi]) > 0 or nchecks < 10:\n",
    "            combinations2 = copy.copy(combinations_t[cell][regi])\n",
    "            combinations_t[cell][regi] = []\n",
    "            for nc, combi in enumerate(combinations2):\n",
    "                # get paths and check if the modelling finished\n",
    "                path = '/'.join(matPath.split('/')[:-1]) + '/'\n",
    "                jobName = 'LF%sUF%sMdis%s_%sbp' %(combi.split()[2], combi.split()[8], combi.split()[6], \n",
    "                                            matPath.split('_')[-1][:-2])\n",
    "                keep_restart_out_dir = path + 'lammpsSteps/jobArray_%s/' %jobName\n",
    "                if os.path.isdir(keep_restart_out_dir):\n",
    "                    print('Combination %s' %(nc))\n",
    "                    # then it didnt finished\n",
    "                    combinations_t += [combi]\n",
    "                    ! python {combi}\n",
    "            nchecks += 1\n",
    "        \n",
    "        "
   ]
  },
  {
   "cell_type": "markdown",
   "metadata": {},
   "source": [
    "## clean temporal folders "
   ]
  },
  {
   "cell_type": "code",
   "execution_count": 8,
   "metadata": {},
   "outputs": [],
   "source": [
    "tempFolders = os.listdir(tempOut)"
   ]
  },
  {
   "cell_type": "code",
   "execution_count": 10,
   "metadata": {},
   "outputs": [
    {
     "name": "stdout",
     "output_type": "stream",
     "text": [
      "sqzn\n",
      "uyxb\n",
      "CRil\n",
      "cVeT\n",
      "GAZl\n",
      "xTjj\n",
      "GbFD\n",
      "epME\n",
      "UGbc\n",
      "GrNS\n"
     ]
    }
   ],
   "source": [
    "for t in tempFolders:\n",
    "    print t\n",
    "    shutil.rmtree(tempOut + t)"
   ]
  }
 ],
 "metadata": {
  "kernelspec": {
   "display_name": "Python 2",
   "language": "python",
   "name": "python2"
  },
  "language_info": {
   "codemirror_mode": {
    "name": "ipython",
    "version": 2
   },
   "file_extension": ".py",
   "mimetype": "text/x-python",
   "name": "python",
   "nbconvert_exporter": "python",
   "pygments_lexer": "ipython2",
   "version": "2.7.18"
  }
 },
 "nbformat": 4,
 "nbformat_minor": 2
}
