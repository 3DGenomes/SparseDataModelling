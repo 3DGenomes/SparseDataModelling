{
 "cells": [
  {
   "cell_type": "markdown",
   "metadata": {},
   "source": [
    "# Libraries and functions "
   ]
  },
  {
   "cell_type": "code",
   "execution_count": 1,
   "metadata": {},
   "outputs": [],
   "source": [
    "import sys\n",
    "import os\n",
    "import shutil\n",
    "import datetime"
   ]
  },
  {
   "cell_type": "markdown",
   "metadata": {},
   "source": [
    "# Parameters to modify"
   ]
  },
  {
   "cell_type": "code",
   "execution_count": 2,
   "metadata": {},
   "outputs": [],
   "source": [
    "## paths. Avoid paths with white spaces or _\n",
    "# Location of the base folder downloaded from GitHub\n",
    "basePath = '/home/julen/TADdyn/SparseDataModelling/'\n",
    "\n",
    "\n",
    "## Execution parameters\n",
    "# days-hours:minutes:seconds of maximum running time of the process\n",
    "jobTime = '0-08:00:00' \n",
    "# how many models will we create\n",
    "nmodels = 160\n",
    "# Steps in which you what to divide the modelling (to divide the modelling\n",
    "# in n steps and save the output)\n",
    "steps = 20\n",
    "# How many CPU's will we allow for the process\n",
    "ncpu = 26\n",
    "\n",
    "#If we set outputAppart to False the models will be stored inside of a folder \n",
    "# called finalModels inside of the same folder as the matrix. If set to True, \n",
    "# models will be stored in a folder called \"models\" at the same level of the \n",
    "# folder called \"matrices\".\n",
    "outputAppart = True\n",
    "\n",
    "## If you want to run a fast test with a small matrix set runFastTest to True\n",
    "# This option will use a short matrix to compute the optimisation\n",
    "# only in one  test cell.\n",
    "# WARNING: It wont use any of the matrices stored in the matrices \n",
    "# subfolders, only the test one that is located in matrices/testCell\n",
    "# output models will be stored at basepath + fastTest/models/\n",
    "runFastTest = True"
   ]
  },
  {
   "cell_type": "markdown",
   "metadata": {},
   "source": [
    "# Run "
   ]
  },
  {
   "cell_type": "markdown",
   "metadata": {},
   "source": [
    "## Define additional paths "
   ]
  },
  {
   "cell_type": "code",
   "execution_count": 3,
   "metadata": {},
   "outputs": [],
   "source": [
    "scriptsPath = basePath + 'code/modellingScripts/'\n",
    "GeneralOptimOutPath = basePath + 'optimization/'\n",
    "tempOut = basePath + 'temporal/modelling'"
   ]
  },
  {
   "cell_type": "markdown",
   "metadata": {},
   "source": [
    "## Import additional libraries"
   ]
  },
  {
   "cell_type": "code",
   "execution_count": 4,
   "metadata": {},
   "outputs": [
    {
     "name": "stdout",
     "output_type": "stream",
     "text": [
      "TADbit libraries not loaded, is ok if working with TADdyn alone\n"
     ]
    }
   ],
   "source": [
    "sys.path.append(basePath + 'code')\n",
    "import metrics"
   ]
  },
  {
   "cell_type": "markdown",
   "metadata": {},
   "source": [
    "## Recover best optimization parameters "
   ]
  },
  {
   "cell_type": "markdown",
   "metadata": {},
   "source": [
    "Here we will recover the top parameters for the final ensemble of models (1000 out of 1500 modelled), calculate the time needed to compute all models and get a variable with the commands to run. These parameters were defined in 02_chooseBestParameters.ipynb"
   ]
  },
  {
   "cell_type": "code",
   "execution_count": 6,
   "metadata": {
    "scrolled": true
   },
   "outputs": [],
   "source": [
    "# Load modelling info\n",
    "if runFastTest == True:\n",
    "    testM = basePath + '''fastTest/matrices/testCell/testReg/MatrixNormFreqFiltrd_\\\n",
    "testCell_testReg_chr8-132755000-133555000_5000bp'''\n",
    "    content = '%s\\t0.0\\t0.0\\t200.0\\t300.0' %testM\n",
    "    with open(basePath + 'fastTest/optimization/modellinParams.txt', 'w') as f:\n",
    "        f.write(content)\n",
    "        \n",
    "    nmodels2 = 15\n",
    "    steps2 = 3\n",
    "    ncpu2 = 5\n",
    "    \n",
    "    cmds, times = metrics.getModellingCommand(basePath + 'fastTest/optimization/', \n",
    "                                              tempOut, jobTime, nmodels2, ncpu2, \n",
    "                                              outputAppart, scriptsPath, step=steps2)\n",
    "    \n",
    "else:\n",
    "    cmds, times = metrics.getModellingCommand(GeneralOptimOutPath, tempOut, jobTime,\n",
    "                       nmodels, ncpu, outputAppart, scriptsPath, step=steps)\n",
    "    ncpu2 = ncpu\n",
    "   "
   ]
  },
  {
   "cell_type": "code",
   "execution_count": 7,
   "metadata": {},
   "outputs": [
    {
     "name": "stdout",
     "output_type": "stream",
     "text": [
      "Stimated time with assigned number of 5 CPU's: 0:02:36.906000\n"
     ]
    }
   ],
   "source": [
    "# get expected modelling time\n",
    "totalTime2 = str(datetime.timedelta(seconds=times))\n",
    "print(\"Stimated time with assigned number of %s CPU's: %s\" %(ncpu2,\n",
    "                                    totalTime2))"
   ]
  },
  {
   "cell_type": "markdown",
   "metadata": {},
   "source": [
    "## Reconstruct the 3D organisation of the chromatin"
   ]
  },
  {
   "cell_type": "markdown",
   "metadata": {},
   "source": [
    "This code will produce the models (.modelsTemp files) and merge them (in case were done in steps) into a .TADdynDict file. If previous runs with the same combinations of parameters are found in the folder, will also be merged. WARNING: Merged files will be erased."
   ]
  },
  {
   "cell_type": "code",
   "execution_count": 11,
   "metadata": {},
   "outputs": [
    {
     "name": "stdout",
     "output_type": "stream",
     "text": [
      "Run 1 of 3\n",
      "We dont consider floating points in maxdist: 300.0\n",
      "WARNING: this is an empty shell, no data here.\n",
      "Preparing to model 161 particles\n",
      "Performing minimization run...\n",
      "Performing minimization run...\n",
      "Performing minimization run...\n",
      "Performing minimization run...\n",
      "Performing minimization run...\n",
      "/home/julen/TADdyn/SparseDataModelling/temporal/modelling_1 /home/julen/TADdyn/SparseDataModelling/fastTest/models/testCell/testReg/testCell_testReg_C200.0L0.0U0.0M300Res5000_1.modelsTemp\n",
      "Run 2 of 3\n",
      "We dont consider floating points in maxdist: 300.0\n",
      "WARNING: this is an empty shell, no data here.\n",
      "Preparing to model 161 particles\n",
      "Performing minimization run...\n",
      "Performing minimization run...\n",
      "Performing minimization run...\n",
      "Performing minimization run...\n",
      "Performing minimization run...\n",
      "/home/julen/TADdyn/SparseDataModelling/temporal/modelling_3 /home/julen/TADdyn/SparseDataModelling/fastTest/models/testCell/testReg/testCell_testReg_C200.0L0.0U0.0M300Res5000_3.modelsTemp\n",
      "Run 3 of 3\n",
      "We dont consider floating points in maxdist: 300.0\n",
      "WARNING: this is an empty shell, no data here.\n",
      "Preparing to model 161 particles\n",
      "Performing minimization run...\n",
      "Performing minimization run...\n",
      "Performing minimization run...\n",
      "Performing minimization run...\n",
      "Performing minimization run...\n",
      "/home/julen/TADdyn/SparseDataModelling/temporal/modelling_6 /home/julen/TADdyn/SparseDataModelling/fastTest/models/testCell/testReg/testCell_testReg_C200.0L0.0U0.0M300Res5000_6.modelsTemp\n",
      "--- Merging ---\n",
      "/home/julen/TADdyn/SparseDataModelling/fastTest/models/testCell/testReg/\n",
      "testCell_testReg_C200.0L0.0U0.0M300Res5000\n",
      "--- Deleting .model files ---\n",
      "Delete: testCell_testReg_C200.0L0.0U0.0M300Res5000_6.modelsTemp\n",
      "Delete: testCell_testReg_C200.0L0.0U0.0M300Res5000_3.modelsTemp\n",
      "Delete: testCell_testReg_C200.0L0.0U0.0M300Res5000_1.modelsTemp\n",
      "15 models joined\n"
     ]
    }
   ],
   "source": [
    "# Make models (results in .model files)\n",
    "for nc, cmd in enumerate(cmds):\n",
    "    print('Run %s of %s' %((nc + 1), len(cmds)))\n",
    "    ! python {cmd}\n",
    "    \n",
    "# Merge, filter, and delete .model files\n",
    "# This step is important since files finishing in .models\n",
    "# can be overwriten in future modelling runs\n",
    "outpaths = set()\n",
    "for cmd in cmds:\n",
    "    outpaths.add(cmd.split()[-1])\n",
    "print('--- Merging ---')\n",
    "for out in outpaths:\n",
    "    print(out)\n",
    "    cmd = '%s06_combineModels.py %s' %(scriptsPath, out)\n",
    "    ! python {cmd}\n"
   ]
  },
  {
   "cell_type": "markdown",
   "metadata": {},
   "source": [
    "## Clean temporal folders "
   ]
  },
  {
   "cell_type": "markdown",
   "metadata": {},
   "source": [
    "The content inside of the generated temporal folders inside $tempOut is usually deleted after the modelling successfully finishes, not the folders itself though. Besides, if the modelling process breaks for any reason, the temporal files will remain there. TADdyn modelling generates a lot of temporal files so, in order to ensure that they don't accumulate, we will remove the container folders after each optimisation process."
   ]
  },
  {
   "cell_type": "code",
   "execution_count": 12,
   "metadata": {},
   "outputs": [],
   "source": [
    "tempFolders = os.listdir(basePath + 'temporal/')"
   ]
  },
  {
   "cell_type": "code",
   "execution_count": 13,
   "metadata": {},
   "outputs": [
    {
     "name": "stdout",
     "output_type": "stream",
     "text": [
      "modelling_1\n",
      "modelling_6\n",
      "modelling_3\n"
     ]
    }
   ],
   "source": [
    "for t in tempFolders:\n",
    "    print t\n",
    "    shutil.rmtree(basePath + 'temporal/%s' %t)"
   ]
  }
 ],
 "metadata": {
  "kernelspec": {
   "display_name": "Python 2",
   "language": "python",
   "name": "python2"
  },
  "language_info": {
   "codemirror_mode": {
    "name": "ipython",
    "version": 2
   },
   "file_extension": ".py",
   "mimetype": "text/x-python",
   "name": "python",
   "nbconvert_exporter": "python",
   "pygments_lexer": "ipython2",
   "version": "2.7.16"
  },
  "toc": {
   "base_numbering": 1,
   "nav_menu": {},
   "number_sections": true,
   "sideBar": true,
   "skip_h1_title": false,
   "title_cell": "Table of Contents",
   "title_sidebar": "Contents",
   "toc_cell": false,
   "toc_position": {},
   "toc_section_display": true,
   "toc_window_display": false
  }
 },
 "nbformat": 4,
 "nbformat_minor": 2
}
