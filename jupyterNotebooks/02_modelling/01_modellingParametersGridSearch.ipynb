{
 "cells": [
  {
   "cell_type": "markdown",
   "metadata": {},
   "source": [
    "In this Notebook we will explore different combinations of input parameters (lowfreq, upfreq, maxdist, and dcutoff) in order to find the optimal combination to compute reliable 3D models of our regions of interest \\*. The Notebook will generate files with the correlation between the model ensembles and the input interaction matrix data that will be assessed in 02_chooseBestParameters.ipynb in order to select the best parameters combination, or, if needed, define a different range of input parameters to continue the exploration.\n",
    " \n",
    " \\* Serra, F., Baù, D., Goodstadt, M., Castillo, D. Filion, G., & Marti-Renom, M.A. (2017). Automatic analysis and 3D-modelling of Hi-C data using TADbit reveals structural features of the fly chromatin colors. PLOS Comp Bio 13(7) e1005665. doi:10.1371/journal.pcbi.1005665 \n",
    " \n",
    " \\* Marco Di Stefano, Ralph Stadhouders, Irene Farabella, David Castillo, François Serra, Thomas Graf, Marc A. Marti-Renom. Transcriptional activation during cell reprogramming correlates with the formation of 3D open chromatin hubs. Nature Communications, 11(1). ISSN 20411723.; doi: 10.1038/s41467-020-16396-1"
   ]
  },
  {
   "cell_type": "markdown",
   "metadata": {},
   "source": [
    "# Libraries and functions "
   ]
  },
  {
   "cell_type": "code",
   "execution_count": 1,
   "metadata": {},
   "outputs": [],
   "source": [
    "from taddyn import Chromosome, Experiment\n",
    "import numpy as np\n",
    "import os\n",
    "import shutil\n",
    "from taddyn.modelling.impoptimizer  import IMPoptimizer\n",
    "import copy\n",
    "import sys\n",
    "import datetime"
   ]
  },
  {
   "cell_type": "markdown",
   "metadata": {},
   "source": [
    "# Parameters to modify"
   ]
  },
  {
   "cell_type": "markdown",
   "metadata": {},
   "source": [
    "Now we will define a range of  parameter combinations in which we will check how well the models represent the input data.  \n",
    "\n",
    "NOTE: The interaction matrix should ideally be included inside a structure of folders without '\\_'. Nested inside of a folder that differentiates first the cell type and then the project or regions. Then it must start by Matrix, and contain the following elements separated by '\\_':  \n",
    ".../Cell/Project/[Matrix]_[Cell]_[region]_[Chromosome]-[startCoord]-[EndCoord]_[resolution]bp  \n",
    "\n",
    "Example:  \n",
    ".../Ery/b-globin/MatrixNormFreqFiltrd_Ery_b-globin_chr11-4615000-6175000_5000bp\n",
    "In this example, all matrices will be in a tree of folders inside matrices"
   ]
  },
  {
   "cell_type": "markdown",
   "metadata": {},
   "source": [
    "You can find a guide to decide the range of parameters to check for your regions of interest in here:  \n",
    "https://github.com/3DGenomes/MethodsMolBiol/blob/master/Notebooks/Methods-10-Modeling%20parameters%20optimization.ipynb  \n",
    "\n",
    "The following code explores lowfreq values ranging from -1 to 0.5 in steps of 0.5, upfreq values from -0.5 to 0.5 in steps of 0.5, and maxdist range from 200 to 500 in steps of 100.\n",
    "Note, the code allowed for the exploration of the dcutoff parameters in a range starting from 100 (two times resolution_scale) to 300 in steps of 100. "
   ]
  },
  {
   "cell_type": "code",
   "execution_count": 3,
   "metadata": {},
   "outputs": [],
   "source": [
    "## Optimisation parameters\n",
    "# range of lowfreq values\n",
    "lowfreq_arange = np.arange(-1.0,1.0,0.5)\n",
    "# range of dcutoff values\n",
    "dcutoff_range= [100,400,100]  # start, end + step, step \n",
    "# range of maxdist values\n",
    "m_range= np.arange(200,500,100)\n",
    "# upfreq range values\n",
    "upfreq_range= np.arange(-0.5,1.0,0.5)\n",
    "# number of CPU to use\n",
    "cpus = 8 \n",
    "# number of models to reconstruct in the optimisation\n",
    "nmodels = 100\n",
    "# days-hours:minutes:seconds of maximum running time per job\n",
    "jobTime = '0-08:00:00' \n",
    "\n",
    "## Data Paths (Location of the base folder downloaded from GitHub)\n",
    "basePath = '/home/julen/TADdyn/TADdyn_tutorial/'"
   ]
  },
  {
   "cell_type": "markdown",
   "metadata": {},
   "source": [
    "# Run"
   ]
  },
  {
   "cell_type": "markdown",
   "metadata": {},
   "source": [
    "## Define additional paths "
   ]
  },
  {
   "cell_type": "code",
   "execution_count": 4,
   "metadata": {},
   "outputs": [],
   "source": [
    "scriptsPath = basePath + 'code/modellingScripts/'\n",
    "tempOut = basePath + 'temporal/'"
   ]
  },
  {
   "cell_type": "markdown",
   "metadata": {},
   "source": [
    "## Import additional libraries  "
   ]
  },
  {
   "cell_type": "code",
   "execution_count": 5,
   "metadata": {},
   "outputs": [],
   "source": [
    "sys.path.append(basePath + 'code')\n",
    "import fileHandling\n",
    "import metrics"
   ]
  },
  {
   "cell_type": "markdown",
   "metadata": {},
   "source": [
    "## Get matrix paths "
   ]
  },
  {
   "cell_type": "code",
   "execution_count": 6,
   "metadata": {},
   "outputs": [],
   "source": [
    "matricesLength, regionsAll, matrices = fileHandling.getMatricesPaths(basePath, starting='Matrix')"
   ]
  },
  {
   "cell_type": "markdown",
   "metadata": {},
   "source": [
    "## Preparing optimisation run"
   ]
  },
  {
   "cell_type": "markdown",
   "metadata": {},
   "source": [
    "This code will create a set of commands to run the optimisation the given combination of parameters"
   ]
  },
  {
   "cell_type": "markdown",
   "metadata": {},
   "source": [
    "### Get combinations of paramteres and run commands "
   ]
  },
  {
   "cell_type": "code",
   "execution_count": 34,
   "metadata": {},
   "outputs": [],
   "source": [
    "combinations = {}\n",
    "for cell in matrices:\n",
    "    combinations[cell] = {}\n",
    "    for regi in matrices[cell]:\n",
    "        matPath = matrices[cell][regi]\n",
    "        c_rangeDot= metrics.dotToC('_'.join(str(j) for j in dcutoff_range))\n",
    "        combinations[cell][regi] = metrics.getParamCombi(lowfreq_arange, m_range, c_rangeDot, upfreq_range, \n",
    "                         scriptsPath, dcutoff_range, matPath, jobTime, nmodels,\n",
    "                         tempOut, cpu=cpus)"
   ]
  },
  {
   "cell_type": "markdown",
   "metadata": {},
   "source": [
    "### Stimate total modelling time"
   ]
  },
  {
   "cell_type": "markdown",
   "metadata": {},
   "source": [
    "It is important to ensure that the number of models you want to build in the optimisation will more or less be resolved in an acceptable time. The modelling timing is highly dependent on both the number of particles of the models (which depends on the length of the region and the resolution of the experiment) and the number of CPU you provide for the modelling process. Please, pay special attention to the output of the following sections and adjust the region to be modelled, its resolution, or the number of CPUs accordingly.\n",
    "\n",
    "WARNING: We discorage users to work with models bigger than 1000 bins/particles due to the exponential increase in modelling timing."
   ]
  },
  {
   "cell_type": "code",
   "execution_count": 8,
   "metadata": {},
   "outputs": [
    {
     "name": "stdout",
     "output_type": "stream",
     "text": [
      "--- b-globin ---\n",
      "Counting 3 cells\n",
      "9000 models will be computed, in a median stimated time (with 1 CPU) of 84 days, 4:46:30\n",
      "Stimated time with assigned number of 8 CPU's: 10 days, 12:35:48.750000\n",
      "\n"
     ]
    }
   ],
   "source": [
    "for regi in regionsAll:\n",
    "    print('--- %s ---' %regi)\n",
    "    ncell = len(matrices.keys())\n",
    "    print('Counting %s cells' %ncell)\n",
    "    ncombi = len(combinations[cell][regi]) * ncell\n",
    "    \n",
    "    # each combination has n models, so we need to multiply\n",
    "    totalModels = ncombi * nmodels\n",
    "    \n",
    "    # Finally we get the total time to do all the models in each region\n",
    "    timePerModel = metrics.stimateTime(matricesLength[regi])\n",
    "    totalTime = totalModels * timePerModel\n",
    "    totalTime2 = str(datetime.timedelta(seconds=totalTime))\n",
    "    \n",
    "    print('%s models will be computed, in a median stimated time (with 1 CPU) of %s' %(\n",
    "                                        totalModels, totalTime2))\n",
    "    \n",
    "    totalTime2 = str(datetime.timedelta(seconds=totalTime/cpus))\n",
    "    print(\"Stimated time with assigned number of %s CPU's: %s\" %(cpus,\n",
    "                                        totalTime2))\n",
    "    print('')"
   ]
  },
  {
   "cell_type": "markdown",
   "metadata": {},
   "source": [
    "### Run optimisation "
   ]
  },
  {
   "cell_type": "markdown",
   "metadata": {},
   "source": [
    "Output files with the correlation of the models from each of the combinations will be stored in the same folder as each of the matrix.  \n",
    "\n",
    "Example: opt_LF-1.0UF0.0C100.0-200.0-300.0Mdis200_5000bp.txt  \n",
    "\n",
    "In the same folder, a folder called lammpsSteps will be created to store the models of the combinations that yet need to be started or finished without computing the asked number of models."
   ]
  },
  {
   "cell_type": "code",
   "execution_count": 18,
   "metadata": {},
   "outputs": [
    {
     "name": "stdout",
     "output_type": "stream",
     "text": [
      "## Ery ##\n",
      "--- b-globin ---\n",
      "Combination 0\n",
      "####\n",
      "Experiment test:\n",
      "   resolution        : 5 kb\n",
      "   TADs              : None\n",
      "   Hi-C rows         : 942\n",
      "   normalized        : visibility\n",
      "   identifier        : GM128Rao\n",
      "   cell type         : UNKNOWN\n",
      "   restriction enzyme: UNKNOWN\n",
      "\n",
      "942\n",
      "WARNING: this is an empty shell, no data here.\n",
      "Optimizing 80 particles\n",
      "  num scale\tkbending\tmaxdist\tlowfreq\tupfreq\tdcutoff\tcorrelation\n",
      "Performing minimization run...\n",
      "Performing minimization run...\n",
      "Performing minimization run...\n",
      "Performing minimization run...\n",
      "Performing minimization run...\n",
      "Performing minimization run...\n",
      "Performing minimization run...\n",
      "Performing minimization run...\n",
      "Performing minimization run...\n",
      "Performing minimization run...\n",
      "WARNING: not all models produced: step 1, nmodels=11\n",
      "  1   0.01 \t0       \t200    \t-1     \t-1    \t200    0.4514\n",
      "  2   0.01 \t0       \t200    \t-1     \t-1    \t100    0.7238\n",
      "All models finished correctly\n",
      "Combination 1\n",
      "####\n",
      "Experiment test:\n",
      "   resolution        : 5 kb\n",
      "   TADs              : None\n",
      "   Hi-C rows         : 942\n",
      "   normalized        : visibility\n",
      "   identifier        : GM128Rao\n",
      "   cell type         : UNKNOWN\n",
      "   restriction enzyme: UNKNOWN\n",
      "\n",
      "942\n",
      "WARNING: this is an empty shell, no data here.\n",
      "Optimizing 80 particles\n",
      "  num scale\tkbending\tmaxdist\tlowfreq\tupfreq\tdcutoff\tcorrelation\n",
      "Performing minimization run...\n",
      "Performing minimization run...\n",
      "Performing minimization run...\n",
      "Performing minimization run...\n",
      "Performing minimization run...\n",
      "Performing minimization run...\n",
      "Performing minimization run...\n",
      "Performing minimization run...\n",
      "Performing minimization run...\n",
      "Performing minimization run...\n",
      "WARNING: not all models produced: step 1, nmodels=11\n",
      "  1   0.01 \t0       \t200    \t-1     \t-0.5  \t200    0.6092\n",
      "  2   0.01 \t0       \t200    \t-1     \t-0.5  \t100    0.7106\n",
      "All models finished correctly\n",
      "Combination 2\n",
      "####\n",
      "Experiment test:\n",
      "   resolution        : 5 kb\n",
      "   TADs              : None\n",
      "   Hi-C rows         : 942\n",
      "   normalized        : visibility\n",
      "   identifier        : GM128Rao\n",
      "   cell type         : UNKNOWN\n",
      "   restriction enzyme: UNKNOWN\n",
      "\n",
      "942\n",
      "WARNING: this is an empty shell, no data here.\n",
      "Optimizing 80 particles\n",
      "  num scale\tkbending\tmaxdist\tlowfreq\tupfreq\tdcutoff\tcorrelation\n",
      "Performing minimization run...\n",
      "Performing minimization run...\n",
      "Performing minimization run...\n",
      "Performing minimization run...\n",
      "Performing minimization run...\n",
      "Performing minimization run...\n",
      "Performing minimization run...\n",
      "Performing minimization run...\n",
      "Performing minimization run...\n",
      "Performing minimization run...\n",
      "WARNING: not all models produced: step 1, nmodels=11\n",
      "  1   0.01 \t0       \t200    \t-1     \t0     \t200    0.7087\n",
      "  2   0.01 \t0       \t200    \t-1     \t0     \t100    0.7483\n",
      "All models finished correctly\n",
      "Combination 3\n",
      "####\n",
      "Experiment test:\n",
      "   resolution        : 5 kb\n",
      "   TADs              : None\n",
      "   Hi-C rows         : 942\n",
      "   normalized        : visibility\n",
      "   identifier        : GM128Rao\n",
      "   cell type         : UNKNOWN\n",
      "   restriction enzyme: UNKNOWN\n",
      "\n",
      "942\n",
      "WARNING: this is an empty shell, no data here.\n",
      "Optimizing 80 particles\n",
      "  num scale\tkbending\tmaxdist\tlowfreq\tupfreq\tdcutoff\tcorrelation\n",
      "Performing minimization run...\n",
      "Performing minimization run...\n",
      "Performing minimization run...\n",
      "Performing minimization run...\n",
      "Performing minimization run...\n",
      "Performing minimization run...\n",
      "Performing minimization run...\n",
      "Performing minimization run...\n",
      "Performing minimization run...\n",
      "Performing minimization run...\n",
      "WARNING: not all models produced: step 1, nmodels=11\n",
      "  1   0.01 \t0       \t200    \t-1     \t0.5   \t200    0.7316\n",
      "  2   0.01 \t0       \t200    \t-1     \t0.5   \t100    0.7385\n",
      "All models finished correctly\n",
      "Combination 4\n",
      "####\n",
      "Experiment test:\n",
      "   resolution        : 5 kb\n",
      "   TADs              : None\n",
      "   Hi-C rows         : 942\n",
      "   normalized        : visibility\n",
      "   identifier        : GM128Rao\n",
      "   cell type         : UNKNOWN\n",
      "   restriction enzyme: UNKNOWN\n",
      "\n",
      "942\n",
      "WARNING: this is an empty shell, no data here.\n",
      "Optimizing 80 particles\n",
      "  num scale\tkbending\tmaxdist\tlowfreq\tupfreq\tdcutoff\tcorrelation\n",
      "Performing minimization run...\n",
      "Performing minimization run...\n",
      "Performing minimization run...\n",
      "Performing minimization run...\n",
      "Performing minimization run...\n",
      "Performing minimization run...\n",
      "Performing minimization run...\n",
      "Performing minimization run...\n",
      "Performing minimization run...\n",
      "Performing minimization run...\n",
      "WARNING: not all models produced: step 1, nmodels=11\n",
      "  1   0.01 \t0       \t300    \t-1     \t-1    \t200    0.7707\n",
      "  2   0.01 \t0       \t300    \t-1     \t-1    \t300    0.2205\n",
      "  4   0.01 \t0       \t300    \t-1     \t-1    \t100    0.6622\n",
      "All models finished correctly\n"
     ]
    }
   ],
   "source": [
    "for cell in combinations:\n",
    "    print('## %s ##' %(cell))\n",
    "    for regi in combinations[cell]:\n",
    "        print('--- %s ---' %regi)\n",
    "        for nc, combi in enumerate(combinations[cell][regi]):\n",
    "            print('Combination %s' %(nc))\n",
    "            ! python {combi}"
   ]
  },
  {
   "cell_type": "markdown",
   "metadata": {},
   "source": [
    "### Continuing optimisation run"
   ]
  },
  {
   "cell_type": "markdown",
   "metadata": {},
   "source": [
    "NOTE: Some times the run will not reach the end, in these cases we restart them starting from a different initial random positioning of the particles. By default this step will be repeated at most 10 times."
   ]
  },
  {
   "cell_type": "code",
   "execution_count": 36,
   "metadata": {},
   "outputs": [
    {
     "name": "stdout",
     "output_type": "stream",
     "text": [
      "## Mon ##\n",
      "--- b-globin ---\n",
      "## Ery ##\n",
      "--- b-globin ---\n",
      "## nCD4 ##\n",
      "--- b-globin ---\n"
     ]
    }
   ],
   "source": [
    "## we will rerun the models until we finish all them or we reach \n",
    "# 10 steps\n",
    "combinations_t = copy.deepcopy(combinations)\n",
    "for cell in combinations_t:\n",
    "    print('## %s ##' %(cell))\n",
    "    for regi in combinations_t[cell]:\n",
    "        print('--- %s ---' %regi)\n",
    "        matPath = matrices[cell][regi]\n",
    "        nchecks = 0\n",
    "        while len(combinations_t[cell][regi]) > 0 or nchecks < 10:\n",
    "            combinations2 = copy.copy(combinations_t[cell][regi])\n",
    "            combinations_t[cell][regi] = []\n",
    "            for nc, combi in enumerate(combinations2):\n",
    "                # get paths and check if the modelling finished\n",
    "                path = '/'.join(matPath.split('/')[:-1]) + '/'\n",
    "                jobName = 'LF%sUF%sMdis%s_%sbp' %(combi.split()[2], combi.split()[8], combi.split()[6], \n",
    "                                            matPath.split('_')[-1][:-2])\n",
    "                keep_restart_out_dir = path + 'lammpsSteps/jobArray_%s/' %jobName\n",
    "                if os.path.isdir(keep_restart_out_dir):\n",
    "                    print('Combination %s' %(nc))\n",
    "                    # then it didnt finished\n",
    "                    combinations_t += [combi]\n",
    "                    ! python {combi}\n",
    "            nchecks += 1\n",
    "        \n",
    "        "
   ]
  },
  {
   "cell_type": "markdown",
   "metadata": {},
   "source": [
    "## clean temporal folders "
   ]
  },
  {
   "cell_type": "markdown",
   "metadata": {},
   "source": [
    "The content inside of the generated temporal folders inside $tempOut is usually deleted after the modelling successfully finishes, not the folders itself though. Besides, if the modelling process breaks for any reason, the temporal files will remain there. TADdyn modelling generates a lot of temporal files so, in order to ensure that they don't accumulate, we will remove the container folders after each optimisation process."
   ]
  },
  {
   "cell_type": "code",
   "execution_count": 8,
   "metadata": {},
   "outputs": [],
   "source": [
    "tempFolders = os.listdir(tempOut)"
   ]
  },
  {
   "cell_type": "code",
   "execution_count": 10,
   "metadata": {},
   "outputs": [
    {
     "name": "stdout",
     "output_type": "stream",
     "text": [
      "sqzn\n",
      "uyxb\n",
      "CRil\n",
      "cVeT\n",
      "GAZl\n",
      "xTjj\n",
      "GbFD\n",
      "epME\n",
      "UGbc\n",
      "GrNS\n"
     ]
    }
   ],
   "source": [
    "for t in tempFolders:\n",
    "    print(t)\n",
    "    shutil.rmtree(tempOut + t)"
   ]
  }
 ],
 "metadata": {
  "kernelspec": {
   "display_name": "Python 2",
   "language": "python",
   "name": "python2"
  },
  "language_info": {
   "codemirror_mode": {
    "name": "ipython",
    "version": 2
   },
   "file_extension": ".py",
   "mimetype": "text/x-python",
   "name": "python",
   "nbconvert_exporter": "python",
   "pygments_lexer": "ipython2",
   "version": "2.7.16"
  },
  "toc": {
   "base_numbering": 1,
   "nav_menu": {},
   "number_sections": true,
   "sideBar": true,
   "skip_h1_title": false,
   "title_cell": "Table of Contents",
   "title_sidebar": "Contents",
   "toc_cell": false,
   "toc_position": {},
   "toc_section_display": true,
   "toc_window_display": false
  }
 },
 "nbformat": 4,
 "nbformat_minor": 2
}
