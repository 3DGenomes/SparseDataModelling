{
 "cells": [
  {
   "cell_type": "markdown",
   "metadata": {},
   "source": [
    "To be able to open and run this notebooks install TADdyn and TADbit following the installation steps:  \n",
    "-TADdyn  \n",
    "https://github.com/3DGenomes/TADdyn  \n",
    "-TADbit  \n",
    "https://github.com/3DGenomes/TADbit  \n",
    "  \n",
    "Or install singularity and run the containers as explained in the README.md file\n"
   ]
  },
  {
   "cell_type": "markdown",
   "metadata": {},
   "source": [
    "You will need to install the following additional python libraries for data analysis and plotting. These libraries are included in the provided singularity recipes and containers, but are absent in the installation instructions from 3Dgenomes.  \n",
    "-For TADdyn:  \n",
    "Seaborn  \n",
    "\n",
    "-For TADbit:  \n",
    "seaborn  \n",
    "fastcluster  \n",
    "sklearn  "
   ]
  },
  {
   "cell_type": "markdown",
   "metadata": {},
   "source": [
    "01_inputData scripts are executed with TADbit"
   ]
  },
  {
   "cell_type": "markdown",
   "metadata": {},
   "source": [
    "02_modelling scripts are executed with TADdyn"
   ]
  },
  {
   "cell_type": "markdown",
   "metadata": {},
   "source": [
    "03_modelAnalysis scripts are executed with TADbit"
   ]
  }
 ],
 "metadata": {
  "kernelspec": {
   "display_name": "Python 2",
   "language": "python",
   "name": "python2"
  },
  "language_info": {
   "codemirror_mode": {
    "name": "ipython",
    "version": 2
   },
   "file_extension": ".py",
   "mimetype": "text/x-python",
   "name": "python",
   "nbconvert_exporter": "python",
   "pygments_lexer": "ipython2",
   "version": "2.7.16"
  },
  "toc": {
   "base_numbering": 1,
   "nav_menu": {},
   "number_sections": true,
   "sideBar": true,
   "skip_h1_title": false,
   "title_cell": "Table of Contents",
   "title_sidebar": "Contents",
   "toc_cell": false,
   "toc_position": {},
   "toc_section_display": true,
   "toc_window_display": false
  }
 },
 "nbformat": 4,
 "nbformat_minor": 2
}
