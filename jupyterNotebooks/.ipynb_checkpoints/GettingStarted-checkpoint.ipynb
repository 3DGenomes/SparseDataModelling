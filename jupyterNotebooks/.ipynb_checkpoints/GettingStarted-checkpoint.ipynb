{
 "cells": [
  {
   "cell_type": "raw",
   "metadata": {},
   "source": [
    "To be able to open and run this notebooks install TADdyn and TADbit following the installation steps:\n",
    "-TADdyn\n",
    "https://github.com/3DGenomes/TADdyn\n",
    "-TADbit\n",
    "https://github.com/3DGenomes/TADbit\n",
    "\n",
    "Or install singularity, go to the containers folder and execute:\n",
    "For TADdyn:\n",
    "singularity exec singularity_TADdyn.sif jupyter notebook --port=8888 --notebook-dir=~/PATH/TO/NOTEBOOKS\n",
    "\n",
    "For TADbit:\n",
    "singularity exec singularity_TADbit.sif jupyter notebook --port=8888 --notebook-dir=~/PATH/TO/NOTEBOOKS"
   ]
  },
  {
   "cell_type": "raw",
   "metadata": {},
   "source": [
    "You will need to install the following additional python libraries for data analysis and plotting. These libraries are included in the provided singularity recipes and containers, but are absent in the installation instructions from 3Dgenomes.\n",
    "-For TADdyn:\n",
    "Seaborn\n",
    "\n",
    "-For TADbit:\n",
    "seaborn\n",
    "fastcluster\n",
    "sklearn"
   ]
  },
  {
   "cell_type": "raw",
   "metadata": {},
   "source": [
    "01_inputData scripts are executed with TADbit"
   ]
  },
  {
   "cell_type": "raw",
   "metadata": {},
   "source": [
    "02_modelling scripts are executed with TADdyn"
   ]
  },
  {
   "cell_type": "raw",
   "metadata": {},
   "source": [
    "03_modelAnalysis scripts are executed with TADbit"
   ]
  }
 ],
 "metadata": {
  "kernelspec": {
   "display_name": "Python 2",
   "language": "python",
   "name": "python2"
  },
  "language_info": {
   "codemirror_mode": {
    "name": "ipython",
    "version": 2
   },
   "file_extension": ".py",
   "mimetype": "text/x-python",
   "name": "python",
   "nbconvert_exporter": "python",
   "pygments_lexer": "ipython2",
   "version": "2.7.18"
  }
 },
 "nbformat": 4,
 "nbformat_minor": 2
}
