{
 "cells": [
  {
   "cell_type": "markdown",
   "metadata": {},
   "source": [
    "In this Notebook we will cluster the ensemble of models to check how variable or similar they are, and in our case, to select the first cluster for further analysis"
   ]
  },
  {
   "cell_type": "markdown",
   "metadata": {},
   "source": [
    "# Parameters to modify"
   ]
  },
  {
   "cell_type": "code",
   "execution_count": 1,
   "metadata": {},
   "outputs": [],
   "source": [
    "# Scale of the experiment. If not changed, is 0.01 nm/bp\n",
    "scale = 0.01\n",
    "# Parameter for the clustering. Factor for equivalent positions\n",
    "fact = 0.8\n",
    "# Maximum number of models to be used. From ~1500 done, we will keep the best 1000\n",
    "modelsKeep = 1000\n",
    "# n CPU to use in clustering\n",
    "n_cpus = 16\n",
    "# Base path where the folder branch is stored\n",
    "basePath = '/home/julen/TADdyn/SparseDataModelling/'# Wether to store (True) or not (False) the inividual model files\n",
    "# of clusters with more than 10 models\n",
    "store_cmm = False\n"
   ]
  },
  {
   "cell_type": "markdown",
   "metadata": {},
   "source": [
    "# Libraries and functions "
   ]
  },
  {
   "cell_type": "code",
   "execution_count": 1,
   "metadata": {},
   "outputs": [],
   "source": [
    "from pytadbit import load_structuralmodels\n",
    "import itertools\n",
    "import numpy as np\n",
    "import cPickle as pickle\n",
    "import sys"
   ]
  },
  {
   "cell_type": "markdown",
   "metadata": {},
   "source": [
    "# Run "
   ]
  },
  {
   "cell_type": "markdown",
   "metadata": {},
   "source": [
    "## Define needed paths "
   ]
  },
  {
   "cell_type": "code",
   "execution_count": 3,
   "metadata": {},
   "outputs": [],
   "source": [
    "# Output path for pickles and plots\n",
    "outdata = basePath + 'outData/modelAnalysis/clustering/'\n",
    "outplot = basePath + 'outPlot/modelAnalysis/clustering/'\n",
    "\n",
    "# create folders\n",
    "! mkdir -p {outdata}\n",
    "! mkdir -p {outplot}"
   ]
  },
  {
   "cell_type": "markdown",
   "metadata": {},
   "source": [
    "## Import additional libraries "
   ]
  },
  {
   "cell_type": "code",
   "execution_count": 4,
   "metadata": {},
   "outputs": [],
   "source": [
    "sys.path.append(basePath + 'code')\n",
    "import fileHandling"
   ]
  },
  {
   "cell_type": "markdown",
   "metadata": {},
   "source": [
    "## Cluster"
   ]
  },
  {
   "cell_type": "markdown",
   "metadata": {},
   "source": [
    "This code will load the model files paths"
   ]
  },
  {
   "cell_type": "code",
   "execution_count": 5,
   "metadata": {},
   "outputs": [],
   "source": [
    "## Path were the models are stored\n",
    "cells, regionsAll, models = fileHandling.getModelsPaths(basePath, ending='models')"
   ]
  },
  {
   "cell_type": "code",
   "execution_count": 6,
   "metadata": {},
   "outputs": [
    {
     "data": {
      "text/plain": [
       "{'Ery': {'b-globin': '/home/julen/TADdyn/TADdyn_tutorial/models/Ery/b-globin/Ery_b-globin_C200.0L0.0U0.0M300Res5000.models'},\n",
       " 'Mon': {'b-globin': '/home/julen/TADdyn/TADdyn_tutorial/models/Mon/b-globin/Mon_b-globin_C200.0L-0.5U0.0M300Res5000.models'},\n",
       " 'nCD4': {'b-globin': '/home/julen/TADdyn/TADdyn_tutorial/models/nCD4/b-globin/nCD4_b-globin_C200.0L0.0U0.0M300Res5000.models'}}"
      ]
     },
     "execution_count": 6,
     "metadata": {},
     "output_type": "execute_result"
    }
   ],
   "source": [
    "models"
   ]
  },
  {
   "cell_type": "markdown",
   "metadata": {},
   "source": [
    "This code will cluster the models from each of the ensembles"
   ]
  },
  {
   "cell_type": "code",
   "execution_count": 8,
   "metadata": {},
   "outputs": [
    {
     "name": "stdout",
     "output_type": "stream",
     "text": [
      "/home/julen/TADdyn/TADdyn_tutorial/models/nCD4/b-globin/nCD4_b-globin_C200.0L0.0U0.0M300Res5000.models\n",
      "Number of singletons excluded from clustering: 0 (total singletons: 0)\n",
      "Total number of clusters: 3\n",
      "   Cluster #1 has 502 models [top model: 92300]\n",
      "   Cluster #2 has 492 models [top model: 868328]\n",
      "   Cluster #3 has 6 models [top model: 237553]\n",
      "\n",
      "/home/julen/TADdyn/TADdyn_tutorial/models/Ery/b-globin/Ery_b-globin_C200.0L0.0U0.0M300Res5000.models\n",
      "Number of singletons excluded from clustering: 0 (total singletons: 0)\n",
      "Total number of clusters: 3\n",
      "   Cluster #1 has 501 models [top model: 22353]\n",
      "   Cluster #2 has 494 models [top model: 515201]\n",
      "   Cluster #3 has 5 models [top model: 13992]\n",
      "\n",
      "/home/julen/TADdyn/TADdyn_tutorial/models/Mon/b-globin/Mon_b-globin_C200.0L-0.5U0.0M300Res5000.models\n",
      "Number of singletons excluded from clustering: 0 (total singletons: 0)\n",
      "Total number of clusters: 2\n",
      "   Cluster #1 has 512 models [top model: 496556]\n",
      "   Cluster #2 has 488 models [top model: 512884]\n",
      "\n"
     ]
    }
   ],
   "source": [
    "allClusters = {}\n",
    "for cell in models:\n",
    "    for regi in models[cell]:\n",
    "        fi = models[cell][regi]\n",
    "        print(fi)\n",
    "        # Define clustering variables in filename\n",
    "        dcutoff = float(fi.split('_C')[-1].split('L')[0])\n",
    "        outpath = outdata + '%s/%s' %(cell, regi)\n",
    "        # If there is no clustering info for these models\n",
    "        if (not '%s_%s' %(cell, regi) in allClusters) or (store_cmm == True):\n",
    "            # load model\n",
    "            models1 = load_structuralmodels(fi)\n",
    "            # keep the amount of selected models\n",
    "            models1.define_best_models(min(len(models1), modelsKeep))\n",
    "            # clusterize\n",
    "            models1.align_models(in_place=True)\n",
    "\n",
    "            if not '%s_%s' %(cell, regi) in allClusters:\n",
    "                models1.cluster_models(fact=fact, n_cpus=n_cpus, dcutoff=dcutoff)\n",
    "                allClusters['%s_%s' %(cell, regi)] = models1.clusters\n",
    "\n",
    "            else:\n",
    "                models1.clusters = allClusters['%s_%s' %(cell, regi)]\n",
    "\n",
    "\n",
    "            # If we want to store cmm files of clusters with more than 10 models\n",
    "            if store_cmm == True:\n",
    "                # If this models where not already stored\n",
    "                if not os.path.isdir(outpath):\n",
    "                    # create cutoff folder\n",
    "                    ! mkdir -p {outpath}\n",
    "\n",
    "                    # store cmm files\n",
    "                    for clust in models1.clusters.keys():\n",
    "                        if len(models1.clusters[clust]) > 10:\n",
    "                            outdir2 = outpath + \"/\" + str(clust)\n",
    "                            ! mkdir -p {outdir2}\n",
    "                            # store cmm\n",
    "                            modelsClust = [models1[str(m)]['index'] for m in models1.clusters[clust]]\n",
    "                            for i in modelsClust:\n",
    "                                models1.write_cmm(outdir2, cluster=clust, model_num=i)"
   ]
  },
  {
   "cell_type": "markdown",
   "metadata": {},
   "source": [
    "This code will store the clustering data to be used in the future"
   ]
  },
  {
   "cell_type": "code",
   "execution_count": 9,
   "metadata": {},
   "outputs": [],
   "source": [
    "if len(allClusters) > 1:\n",
    "    with open(clustersPickle, \"wb\") as output_file:\n",
    "        pickle.dump(allClusters, output_file)"
   ]
  }
 ],
 "metadata": {
  "kernelspec": {
   "display_name": "Python 2",
   "language": "python",
   "name": "python2"
  },
  "language_info": {
   "codemirror_mode": {
    "name": "ipython",
    "version": 2
   },
   "file_extension": ".py",
   "mimetype": "text/x-python",
   "name": "python",
   "nbconvert_exporter": "python",
   "pygments_lexer": "ipython2",
   "version": "2.7.16"
  },
  "toc": {
   "base_numbering": 1,
   "nav_menu": {},
   "number_sections": true,
   "sideBar": true,
   "skip_h1_title": false,
   "title_cell": "Table of Contents",
   "title_sidebar": "Contents",
   "toc_cell": false,
   "toc_position": {},
   "toc_section_display": true,
   "toc_window_display": false
  }
 },
 "nbformat": 4,
 "nbformat_minor": 2
}
