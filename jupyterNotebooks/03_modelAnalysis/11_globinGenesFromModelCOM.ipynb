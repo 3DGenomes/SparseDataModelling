{
 "cells": [
  {
   "cell_type": "markdown",
   "metadata": {},
   "source": [
    "# Libraries and functions "
   ]
  },
  {
   "cell_type": "code",
   "execution_count": 1,
   "metadata": {},
   "outputs": [],
   "source": [
    "import sys\n",
    "import cPickle as pickle\n",
    "import numpy as np\n",
    "import itertools\n",
    "from scipy import stats"
   ]
  },
  {
   "cell_type": "markdown",
   "metadata": {},
   "source": [
    "# Parameters to modify "
   ]
  },
  {
   "cell_type": "code",
   "execution_count": 2,
   "metadata": {},
   "outputs": [],
   "source": [
    "# Maximum number of models to be used. From ~1500 done, we will keep the best 1000\n",
    "modelsKeep = 1000\n",
    "# Base path where the folder branch is stored\n",
    "basePath = '/home/julen/TADdyn/TADdyn_tutorial/'\n",
    "# Define the orther of the cells for the ploting\n",
    "orderCell = ['Ery', 'nCD4', 'Mon']\n",
    "# Define the coloring options for each cell\n",
    "colors = [(120/255., 94/255., 240/255.), \n",
    "          (254/255., 97/255., 0/255.),\n",
    "          (220/255., 38/255., 127/255.)\n",
    "         ]\n",
    "\n",
    "# Wether to store figures in pdf or not\n",
    "saveFig = True\n",
    "# In This case we will use all the models from the ensemble\n",
    "\n",
    "## Path to files with coordinates to regulatory elements\n",
    "# Locations in which we will assign promoters\n",
    "promFile = basePath + 'additionaInput/gene_tss.txt'\n",
    "# Locations in which we will assign enhancers or other regulatory elements\n",
    "enhanFile = basePath + 'additionaInput/regElem.txt'\n",
    "# File with the coordiantes to the elements of interest\n",
    "interestFile = basePath + 'additionaInput/interest_globinCOM.txt'"
   ]
  },
  {
   "cell_type": "markdown",
   "metadata": {},
   "source": [
    "# Run "
   ]
  },
  {
   "cell_type": "markdown",
   "metadata": {},
   "source": [
    "## Import additional libraries "
   ]
  },
  {
   "cell_type": "code",
   "execution_count": 3,
   "metadata": {},
   "outputs": [],
   "source": [
    "sys.path.append(basePath + 'code')\n",
    "import fileHandling\n",
    "import plotting\n",
    "import metrics"
   ]
  },
  {
   "cell_type": "markdown",
   "metadata": {},
   "source": [
    "## Define new paths "
   ]
  },
  {
   "cell_type": "code",
   "execution_count": 4,
   "metadata": {},
   "outputs": [],
   "source": [
    "# Output path for pickles and plots\n",
    "outdata = basePath + 'outData/modelAnalysis/model_comparisons/distanceAnalysis/COM/'\n",
    "outplot = basePath + 'outPlot/modelAnalysis/model_comparisons/distanceAnalysis/COM/'"
   ]
  },
  {
   "cell_type": "markdown",
   "metadata": {},
   "source": [
    "## Get model files and regions "
   ]
  },
  {
   "cell_type": "code",
   "execution_count": 5,
   "metadata": {},
   "outputs": [],
   "source": [
    "## Path were the models are stored\n",
    "cells, regionsAll, models = fileHandling.getModelsPaths(basePath, ending='models')\n",
    "\n",
    "## get regions\n",
    "regiones = {}\n",
    "# get info of the regions\n",
    "for cell in cells:\n",
    "    for regi in regionsAll:\n",
    "        if not regi in regiones:\n",
    "            \n",
    "            regiones[regi] = fileHandling.getREgiInfo(basePath, regi, cell)\n",
    "        else:\n",
    "            infot = fileHandling.getREgiInfo(basePath, regi, cell)\n",
    "            if infot != regiones[regi]:\n",
    "                print('Region %s, cell %s has different parameters than previous cells')\n",
    "                print('This code is not prepared to compare models with different length \\\n",
    "                      or resolution')"
   ]
  },
  {
   "cell_type": "markdown",
   "metadata": {},
   "source": [
    "## Retrieve clustering data "
   ]
  },
  {
   "cell_type": "code",
   "execution_count": 6,
   "metadata": {},
   "outputs": [
    {
     "name": "stdout",
     "output_type": "stream",
     "text": [
      "Recovering previous clustering data from:\n",
      "/home/julen/TADdyn/TADdyn_tutorial/outData/modelAnalysis/clustering/allClusterDict.pickle\n"
     ]
    }
   ],
   "source": [
    "# If we ran this script with less models, will recover the previous clustering info\n",
    "clustersPickle= basePath + 'outData/modelAnalysis/clustering/allClusterDict.pickle' \n",
    "with open(clustersPickle, \"rb\") as input_file:\n",
    "    allClusters = pickle.load(input_file)\n",
    "print('Recovering previous clustering data from:')\n",
    "print(clustersPickle)"
   ]
  },
  {
   "cell_type": "markdown",
   "metadata": {},
   "source": [
    "## Load additional input data "
   ]
  },
  {
   "cell_type": "code",
   "execution_count": 7,
   "metadata": {},
   "outputs": [
    {
     "name": "stdout",
     "output_type": "stream",
     "text": [
      "Enhancer HS-E1 was in same bin as a promoter (HBE1).     Bin position 294\n",
      "Enhancer enh5 was in same bin as a promoter (STIM1,MIR4687,AC090587.1).     Bin position 12\n",
      "Enhancer HS5 was in same bin as a promoter (OR51AB1P).     Bin position 299\n",
      "Enhancer HS7 was in same bin as a promoter (OR51B4).     Bin position 301\n",
      "Enhancer 3HS1 was in same bin as a promoter (OR51V1).     Bin position 281\n"
     ]
    }
   ],
   "source": [
    "enhAll, promAll, interAll = fileHandling.getElementCoordinates(regionsAll, regiones, enhanFile,\n",
    "                          promFile, interestFile)"
   ]
  },
  {
   "cell_type": "markdown",
   "metadata": {},
   "source": [
    "## Get distances between focus COM and model COM "
   ]
  },
  {
   "cell_type": "code",
   "execution_count": 8,
   "metadata": {},
   "outputs": [],
   "source": [
    "distances = metrics.getCOMdistFocusAll(models, orderCell, interAll, modelsKeep)"
   ]
  },
  {
   "cell_type": "markdown",
   "metadata": {},
   "source": [
    "## Plot "
   ]
  },
  {
   "cell_type": "code",
   "execution_count": 9,
   "metadata": {},
   "outputs": [
    {
     "data": {
      "image/png": "[encoded data removed]",
      "text/plain": [
       "<Figure size 432x288 with 1 Axes>"
      ]
     },
     "metadata": {
      "needs_background": "light"
     },
     "output_type": "display_data"
    }
   ],
   "source": [
    "plotting.plot11(outplot, orderCell, distances, colors, saveFig=False)"
   ]
  },
  {
   "cell_type": "markdown",
   "metadata": {},
   "source": [
    "## Show statistics"
   ]
  },
  {
   "cell_type": "code",
   "execution_count": 10,
   "metadata": {},
   "outputs": [
    {
     "name": "stdout",
     "output_type": "stream",
     "text": [
      "Ery nCD4 Ks_2sampResult(statistic=0.842, pvalue=8.9551191526e-312)\n",
      "Ery Mon Ks_2sampResult(statistic=0.945, pvalue=0.0)\n",
      "nCD4 Mon Ks_2sampResult(statistic=0.479, pvalue=3.464289362502349e-101)\n",
      "Ery 286.6919249034743 7.675385187363645\n",
      "nCD4 242.41680820127772 13.469464881242075\n",
      "Mon 207.26891562295606 25.212313152770648\n"
     ]
    }
   ],
   "source": [
    "combis = itertools.combinations(orderCell, 2)\n",
    "for expe1, expe2 in combis:\n",
    "    print expe1, expe2, stats.ks_2samp(distances[expe1], distances[expe2])\n",
    "    \n",
    "for expe in orderCell:\n",
    "    print expe, np.median(distances[expe]), metrics.median_absolute_deviation(distances[expe])"
   ]
  }
 ],
 "metadata": {
  "kernelspec": {
   "display_name": "Python 2",
   "language": "python",
   "name": "python2"
  },
  "language_info": {
   "codemirror_mode": {
    "name": "ipython",
    "version": 2
   },
   "file_extension": ".py",
   "mimetype": "text/x-python",
   "name": "python",
   "nbconvert_exporter": "python",
   "pygments_lexer": "ipython2",
   "version": "2.7.18"
  },
  "toc": {
   "base_numbering": 1,
   "nav_menu": {},
   "number_sections": true,
   "sideBar": true,
   "skip_h1_title": false,
   "title_cell": "Table of Contents",
   "title_sidebar": "Contents",
   "toc_cell": false,
   "toc_position": {},
   "toc_section_display": true,
   "toc_window_display": false
  }
 },
 "nbformat": 4,
 "nbformat_minor": 2
}
