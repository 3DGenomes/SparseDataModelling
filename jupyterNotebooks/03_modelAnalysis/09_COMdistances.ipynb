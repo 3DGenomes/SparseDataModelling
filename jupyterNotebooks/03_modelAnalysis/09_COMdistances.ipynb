{
 "cells": [
  {
   "cell_type": "markdown",
   "metadata": {},
   "source": [
    "This Notebook will show the average distance between the Center Of Mass (COM) of the clusters defined in the previous Notebook, and the average expression of their contained genes."
   ]
  },
  {
   "cell_type": "markdown",
   "metadata": {},
   "source": [
    "# Libraries and functions"
   ]
  },
  {
   "cell_type": "code",
   "execution_count": 1,
   "metadata": {},
   "outputs": [],
   "source": [
    "import sys\n",
    "import cPickle as pickle\n",
    "import numpy as np"
   ]
  },
  {
   "cell_type": "markdown",
   "metadata": {},
   "source": [
    "## Parameters to modify "
   ]
  },
  {
   "cell_type": "code",
   "execution_count": 2,
   "metadata": {},
   "outputs": [],
   "source": [
    "# Maximum number of models to be used. From ~1500 done, we will keep the best 1000\n",
    "modelsKeep = 1000\n",
    "# Base path where the folder branch is stored\n",
    "basePath = '/home/julen/TADdyn/TADdyn_tutorial/'\n",
    "# Define the orther of the cells for the ploting\n",
    "orderCell = ['Ery', 'nCD4', 'Mon']\n",
    "\n",
    "# Wether to store figures in pdf or not\n",
    "saveFig = True\n",
    "# In which of the model clusters we will do the analysis\n",
    "cluster = 1\n",
    "\n",
    "# Optinal file with information about expression chip or other measures whose \n",
    "# location will be shown in the plots\n",
    "# Format: Name Chromosome Coordinate Cell1 Cell2, Cell3, ...\n",
    "# Example: Gene Chr TSS Ery nCD4 Mon  # Each Cell column has the expression value\n",
    "# Of that cell in the gene that names the row\n",
    "signalData = basePath + 'additionaInput/expressionData.txt'\n",
    "# The signal thresshold associated to this files (if none leave it as None which\n",
    "# will define 0 by default)\n",
    "# Allowed lowest value is 0\n",
    "thresshold = 0"
   ]
  },
  {
   "cell_type": "markdown",
   "metadata": {},
   "source": [
    "# Run "
   ]
  },
  {
   "cell_type": "markdown",
   "metadata": {},
   "source": [
    "## Import additional libraries "
   ]
  },
  {
   "cell_type": "code",
   "execution_count": 3,
   "metadata": {},
   "outputs": [],
   "source": [
    "sys.path.append(basePath + 'code')\n",
    "import fileHandling\n",
    "import plotting\n",
    "import metrics"
   ]
  },
  {
   "cell_type": "markdown",
   "metadata": {},
   "source": [
    "## Define new paths "
   ]
  },
  {
   "cell_type": "code",
   "execution_count": 4,
   "metadata": {},
   "outputs": [],
   "source": [
    "# Output path for pickles and plots\n",
    "outdata = basePath + 'outData/modelAnalysis/model_comparisons/coOccurrenceMatrix/'\n",
    "outplot = basePath + 'outPlot/modelAnalysis/model_comparisons/coOccurrenceMatrix/'"
   ]
  },
  {
   "cell_type": "markdown",
   "metadata": {},
   "source": [
    "## Get model files and regions "
   ]
  },
  {
   "cell_type": "code",
   "execution_count": 5,
   "metadata": {},
   "outputs": [],
   "source": [
    "## Path were the models are stored\n",
    "cells, regionsAll, models = fileHandling.getModelsPaths(basePath, ending='models')\n",
    "\n",
    "## get regions\n",
    "regiones = {}\n",
    "# get info of the regions\n",
    "for cell in cells:\n",
    "    for regi in regionsAll:\n",
    "        if not regi in regiones:\n",
    "            \n",
    "            regiones[regi] = fileHandling.getREgiInfo(basePath, regi, cell)\n",
    "        else:\n",
    "            infot = fileHandling.getREgiInfo(basePath, regi, cell)\n",
    "            if infot != regiones[regi]:\n",
    "                print('Region %s, cell %s has different parameters than previous cells')\n",
    "                print('This code is not prepared to compare models with different length \\\n",
    "                      or resolution')"
   ]
  },
  {
   "cell_type": "markdown",
   "metadata": {},
   "source": [
    "## Retrieve clustering data "
   ]
  },
  {
   "cell_type": "code",
   "execution_count": 6,
   "metadata": {},
   "outputs": [
    {
     "name": "stdout",
     "output_type": "stream",
     "text": [
      "Recovering previous clustering data from:\n",
      "/home/julen/TADdyn/TADdyn_tutorial/outData/modelAnalysis/clustering/allClusterDict.pickle\n"
     ]
    }
   ],
   "source": [
    "# If we ran this script with less models, will recover the previous clustering info\n",
    "clustersPickle= basePath + 'outData/modelAnalysis/clustering/allClusterDict.pickle' \n",
    "with open(clustersPickle, \"rb\") as input_file:\n",
    "    allClusters = pickle.load(input_file)\n",
    "print('Recovering previous clustering data from:')\n",
    "print(clustersPickle)"
   ]
  },
  {
   "cell_type": "markdown",
   "metadata": {},
   "source": [
    "## Load expression data and gene positions "
   ]
  },
  {
   "cell_type": "code",
   "execution_count": 7,
   "metadata": {},
   "outputs": [],
   "source": [
    "newSignalPos, newSignal = fileHandling.getSignalAndPos(regiones, orderCell, \n",
    "                                                       signalData, signalThresshold=thresshold)"
   ]
  },
  {
   "cell_type": "markdown",
   "metadata": {},
   "source": [
    "## Load clustering data"
   ]
  },
  {
   "cell_type": "code",
   "execution_count": 8,
   "metadata": {},
   "outputs": [],
   "source": [
    "with open(outdata + 'coOccurrenceClusters', 'rb') as handle:\n",
    "    clustersBinPos, clusterGeneNames = pickle.load(handle)"
   ]
  },
  {
   "cell_type": "markdown",
   "metadata": {},
   "source": [
    "## Get ensemble mean distance between the center of mass of each cluster"
   ]
  },
  {
   "cell_type": "code",
   "execution_count": 9,
   "metadata": {},
   "outputs": [],
   "source": [
    "meandistancesCluster, centersOfMass = metrics.clusterCOMdistances(regiones,models, allClusters, clustersBinPos,\n",
    "                        cluster, modelsKeep)\n"
   ]
  },
  {
   "cell_type": "code",
   "execution_count": 10,
   "metadata": {},
   "outputs": [],
   "source": [
    "# store it \n",
    "with open(outdata + 'clustersDistance.pickle', 'wb') as handle:\n",
    "    pickle.dump([meandistancesCluster, centersOfMass], handle, protocol=pickle.HIGHEST_PROTOCOL)"
   ]
  },
  {
   "cell_type": "raw",
   "metadata": {},
   "source": [
    "with open(outdata + 'clustersDistance.pickle', 'rb') as handle:\n",
    "    meandistancesCluster, centersOfMass = pickle.load(handle)"
   ]
  },
  {
   "cell_type": "code",
   "execution_count": 11,
   "metadata": {},
   "outputs": [
    {
     "data": {
      "text/plain": [
       "{'b-globin': {'Ery': {(1, 2): 243.4701036454465,\n",
       "   (1, 3): 285.63662413509064,\n",
       "   (1, 4): 305.96101487467763,\n",
       "   (2, 3): 465.22765001332203,\n",
       "   (2, 4): 214.66971969496635,\n",
       "   (3, 4): 504.2879856394773},\n",
       "  'Mon': {(1, 2): 261.5564183682194},\n",
       "  'nCD4': {(1, 2): 233.1616907273305,\n",
       "   (1, 3): 140.73887306844637,\n",
       "   (2, 3): 275.1259607195036}}}"
      ]
     },
     "execution_count": 11,
     "metadata": {},
     "output_type": "execute_result"
    }
   ],
   "source": [
    "meandistancesCluster"
   ]
  },
  {
   "cell_type": "markdown",
   "metadata": {},
   "source": [
    "## Get mean expression in each cluster and rank them"
   ]
  },
  {
   "cell_type": "code",
   "execution_count": 12,
   "metadata": {},
   "outputs": [],
   "source": [
    "rankedSum = metrics.rankExpression(clustersBinPos, newSignalPos, newSignal)"
   ]
  },
  {
   "cell_type": "markdown",
   "metadata": {},
   "source": [
    "## Plot COM of clusters and average expression ranking"
   ]
  },
  {
   "cell_type": "code",
   "execution_count": 13,
   "metadata": {
    "scrolled": true
   },
   "outputs": [
    {
     "data": {
      "image/png": "[encoded data removed]",
      "text/plain": [
       "<Figure size 720x720 with 6 Axes>"
      ]
     },
     "metadata": {
      "needs_background": "light"
     },
     "output_type": "display_data"
    },
    {
     "data": {
      "image/png": "[encoded data removed]",
      "text/plain": [
       "<Figure size 720x720 with 6 Axes>"
      ]
     },
     "metadata": {
      "needs_background": "light"
     },
     "output_type": "display_data"
    },
    {
     "data": {
      "image/png": "[encoded data removed]",
      "text/plain": [
       "<Figure size 720x720 with 6 Axes>"
      ]
     },
     "metadata": {
      "needs_background": "light"
     },
     "output_type": "display_data"
    }
   ],
   "source": [
    "plotting.plotCOM(meandistancesCluster, clustersBinPos, outplot, rankedSum, \n",
    "                 cluster, saveFig)\n"
   ]
  },
  {
   "cell_type": "code",
   "execution_count": 14,
   "metadata": {},
   "outputs": [
    {
     "name": "stdout",
     "output_type": "stream",
     "text": [
      "nCD4 (1, 2) 233.1616907273305\n",
      "nCD4 (1, 3) 140.73887306844637\n",
      "nCD4 (2, 3) 275.1259607195036\n",
      "Mon (1, 2) 261.5564183682194\n",
      "Ery (1, 2) 243.4701036454465\n",
      "Ery (1, 3) 285.63662413509064\n",
      "Ery (1, 4) 305.96101487467763\n",
      "Ery (2, 3) 465.22765001332203\n",
      "Ery (3, 4) 504.2879856394773\n",
      "Ery (2, 4) 214.66971969496635\n"
     ]
    }
   ],
   "source": [
    "for cell in meandistancesCluster[regi]:\n",
    "    for compi in  meandistancesCluster[regi][cell]:\n",
    "        print cell, compi, np.mean(meandistancesCluster[regi][cell][compi])"
   ]
  }
 ],
 "metadata": {
  "kernelspec": {
   "display_name": "Python 2",
   "language": "python",
   "name": "python2"
  },
  "language_info": {
   "codemirror_mode": {
    "name": "ipython",
    "version": 2
   },
   "file_extension": ".py",
   "mimetype": "text/x-python",
   "name": "python",
   "nbconvert_exporter": "python",
   "pygments_lexer": "ipython2",
   "version": "2.7.16"
  },
  "toc": {
   "base_numbering": 1,
   "nav_menu": {},
   "number_sections": true,
   "sideBar": true,
   "skip_h1_title": false,
   "title_cell": "Table of Contents",
   "title_sidebar": "Contents",
   "toc_cell": false,
   "toc_position": {
    "height": "calc(100% - 180px)",
    "left": "10px",
    "top": "150px",
    "width": "284.434px"
   },
   "toc_section_display": true,
   "toc_window_display": true
  }
 },
 "nbformat": 4,
 "nbformat_minor": 2
}
