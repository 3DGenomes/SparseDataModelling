{
 "cells": [
  {
   "cell_type": "markdown",
   "metadata": {},
   "source": [
    "# Libraries and functions "
   ]
  },
  {
   "cell_type": "code",
   "execution_count": 1,
   "metadata": {},
   "outputs": [],
   "source": [
    "from pytadbit.modelling.structuralmodel import StructuralModel\n",
    "from pytadbit.modelling.structuralmodels import StructuralModels, load_structuralmodels\n",
    "import cPickle as pickle\n",
    "import sys\n",
    "\n",
    "def taddynToTadbit(fi):\n",
    "    with open(fi, 'rb') as pickle_file:\n",
    "        ensemble_of_models = pickle.load(pickle_file)\n",
    "    if len(ensemble_of_models['stages']) == 0:\n",
    "        models_stage = dict((i, StructuralModel(ensemble_of_models['models'][mod]))\n",
    "                        for i, mod in enumerate(ensemble_of_models['models']))\n",
    "        model1 =StructuralModels(\n",
    "                ensemble_of_models['loci'], models_stage, {}, \n",
    "                resolution=ensemble_of_models['resolution'], original_data=ensemble_of_models['original_data'],\n",
    "                zscores=ensemble_of_models['zscores'][0], config=ensemble_of_models['config'],\n",
    "                zeros=ensemble_of_models['zeros'][0],restraints=ensemble_of_models['restraints'])\n",
    "        \n",
    "        # if naming is like in defined format will try to recover some info\n",
    "        fi2 = fi.split('/')[-1]\n",
    "        if len(fi2.split('_')) == 3 and '_C' in fi2 and 'Res' in fi2:\n",
    "            cell = fi2.split('_')[0]\n",
    "            resol = fi2.split('Res')[-1].split('.')[0]\n",
    "            region = fi2.split('_')[1]\n",
    "            identifier = '%s_%s' %(cell, region)\n",
    "        else:\n",
    "            resol = 0\n",
    "            identifier = 'NA'\n",
    "            cell = 'NA'\n",
    "            region = 'NA'\n",
    "    \n",
    "        # Define description and set index values\n",
    "        description = {'identifier'        : identifier,\n",
    "                       'chromosome'        : ['NA'],\n",
    "                       'start'             : [0],\n",
    "                       'end'               : [0],\n",
    "                       'species'           : 'NA',\n",
    "                       'restriction enzyme': 'NA',\n",
    "                       'cell type'         : cell,\n",
    "                       'experiment type'   : region,\n",
    "                       'resolution'        : resol,\n",
    "                       'assembly'          : 'NA'}\n",
    "        \n",
    "        for nmo, mo in enumerate(model1):\n",
    "            # change rand_init values for actual index and add descriptions\n",
    "            mo['index'] = nmo\n",
    "            mo['description'] = description\n",
    "            \n",
    "    \n",
    "    return model1\n"
   ]
  },
  {
   "cell_type": "markdown",
   "metadata": {},
   "source": [
    "# Parameters to modify "
   ]
  },
  {
   "cell_type": "code",
   "execution_count": 2,
   "metadata": {},
   "outputs": [],
   "source": [
    "# Base path where the folder branch is stored\n",
    "basePath = '/home/julen/TADdyn/TADdyn_tutorial/'"
   ]
  },
  {
   "cell_type": "markdown",
   "metadata": {},
   "source": [
    "# Run "
   ]
  },
  {
   "cell_type": "markdown",
   "metadata": {},
   "source": [
    "## Import additional libraries "
   ]
  },
  {
   "cell_type": "code",
   "execution_count": 3,
   "metadata": {},
   "outputs": [],
   "source": [
    "sys.path.append(basePath + 'code')\n",
    "import fileHandling"
   ]
  },
  {
   "cell_type": "markdown",
   "metadata": {},
   "source": [
    "## Get all model locations "
   ]
  },
  {
   "cell_type": "markdown",
   "metadata": {},
   "source": [
    "Be sure to have just one TADdynDict file in each folder associated with a cell and region"
   ]
  },
  {
   "cell_type": "code",
   "execution_count": 4,
   "metadata": {},
   "outputs": [],
   "source": [
    "# Path were the models are stored\n",
    "cells, regionsAll, models = fileHandling.getModelsPaths(basePath, ending='TADdynDict')"
   ]
  },
  {
   "cell_type": "code",
   "execution_count": 5,
   "metadata": {},
   "outputs": [
    {
     "data": {
      "text/plain": [
       "{'Ery': {'b-globin': '/home/julen/TADdyn/TADdyn_tutorial/models/Ery/b-globin/Ery_b-globin_C200.0L0.0U0.0M300Res5000.TADdynDict'},\n",
       " 'Mon': {'b-globin': '/home/julen/TADdyn/TADdyn_tutorial/models/Mon/b-globin/Mon_b-globin_C200.0L-0.5U0.0M300Res5000.TADdynDict'},\n",
       " 'nCD4': {'b-globin': '/home/julen/TADdyn/TADdyn_tutorial/models/nCD4/b-globin/nCD4_b-globin_C200.0L0.0U0.0M300Res5000.TADdynDict'}}"
      ]
     },
     "execution_count": 5,
     "metadata": {},
     "output_type": "execute_result"
    }
   ],
   "source": [
    "models"
   ]
  },
  {
   "cell_type": "markdown",
   "metadata": {},
   "source": [
    "# Convert to TADbit models"
   ]
  },
  {
   "cell_type": "code",
   "execution_count": 7,
   "metadata": {},
   "outputs": [
    {
     "name": "stdout",
     "output_type": "stream",
     "text": [
      "/home/julen/TADdyn/TADdyn_tutorial/models/nCD4/b-globin/nCD4_b-globin_C200.0L0.0U0.0M300Res5000.TADdynDict\n",
      "/home/julen/TADdyn/TADdyn_tutorial/models/Ery/b-globin/Ery_b-globin_C200.0L0.0U0.0M300Res5000.TADdynDict\n",
      "/home/julen/TADdyn/TADdyn_tutorial/models/Mon/b-globin/Mon_b-globin_C200.0L-0.5U0.0M300Res5000.TADdynDict\n"
     ]
    }
   ],
   "source": [
    "for cell in models:\n",
    "    for regi in models[cell]:\n",
    "        fi = models[cell][regi]\n",
    "        print(fi)\n",
    "        model1 = taddynToTadbit(fi)\n",
    "        model1.save_models(fi.split('TADdynDict')[0] + 'models')"
   ]
  }
 ],
 "metadata": {
  "kernelspec": {
   "display_name": "Python 2",
   "language": "python",
   "name": "python2"
  },
  "language_info": {
   "codemirror_mode": {
    "name": "ipython",
    "version": 2
   },
   "file_extension": ".py",
   "mimetype": "text/x-python",
   "name": "python",
   "nbconvert_exporter": "python",
   "pygments_lexer": "ipython2",
   "version": "2.7.16"
  },
  "toc": {
   "base_numbering": 1,
   "nav_menu": {},
   "number_sections": true,
   "sideBar": true,
   "skip_h1_title": false,
   "title_cell": "Table of Contents",
   "title_sidebar": "Contents",
   "toc_cell": false,
   "toc_position": {},
   "toc_section_display": true,
   "toc_window_display": false
  }
 },
 "nbformat": 4,
 "nbformat_minor": 2
}
