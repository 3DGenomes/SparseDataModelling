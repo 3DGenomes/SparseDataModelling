{
 "cells": [
  {
   "cell_type": "markdown",
   "metadata": {},
   "source": [
    "# Libraries and functions "
   ]
  },
  {
   "cell_type": "code",
   "execution_count": 1,
   "metadata": {},
   "outputs": [],
   "source": [
    "import sys\n",
    "import cPickle as pickle\n",
    "from scipy import stats\n",
    "import matplotlib.backends.backend_pdf\n",
    "import pandas as pd\n",
    "import itertools"
   ]
  },
  {
   "cell_type": "markdown",
   "metadata": {},
   "source": [
    "# Parameters to modify "
   ]
  },
  {
   "cell_type": "code",
   "execution_count": 2,
   "metadata": {},
   "outputs": [],
   "source": [
    "# Maximum number of models to be used. From ~1500 done, we will keep the best 1000\n",
    "modelsKeep = 1000\n",
    "# Base path where the folder branch is stored\n",
    "basePath = '/home/julen/TADdyn/TADdyn_tutorial/'\n",
    "# Define the orther of the cells for the ploting\n",
    "orderCell = ['Ery', 'nCD4', 'Mon']\n",
    "# Define the coloring options for each cell\n",
    "colors = [(120/255., 94/255., 240/255.), \n",
    "          (254/255., 97/255., 0/255.),\n",
    "          (220/255., 38/255., 127/255.)\n",
    "         ]\n",
    "# Wether to store figures in pdf or not\n",
    "saveFig = True\n",
    "# In which of the model clusters we will do the analysis\n",
    "cluster = 1\n",
    "\n",
    "## Path to files with coordinates to regulatory elements\n",
    "# Locations in which we will assign promoters\n",
    "promFile = basePath + 'additionaInput/gene_tss.txt'\n",
    "# Locations in which we will assign enhancers or other regulatory elements\n",
    "enhanFile = basePath + 'additionaInput/regElem.txt'\n",
    "# Locations of the promoters or enhancers in which we will centre for the radial plot\n",
    "interestFile = basePath + 'additionaInput/interest_distancePlot.txt'\n",
    "\n",
    "\n",
    "# Optinal file with information about expression chip or other measures whose \n",
    "# location will be shown in the plots\n",
    "# Format: Name Chromosome Coordinate Cell1 Cell2, Cell3, ...\n",
    "# Example: Gene Chr TSS Ery nCD4 Mon  # Each Cell column has the expression value\n",
    "# Of that cell in the gene that names the row\n",
    "signalData = basePath + 'additionaInput/expressionData.txt'\n",
    "# The signal thresshold associated to this files (if none leave it as None which\n",
    "# will define 0 by default)\n",
    "# Allowed lowest value is 0\n",
    "thresshold = 0\n"
   ]
  },
  {
   "cell_type": "markdown",
   "metadata": {},
   "source": [
    "# Run "
   ]
  },
  {
   "cell_type": "markdown",
   "metadata": {},
   "source": [
    "## Import additional libraries"
   ]
  },
  {
   "cell_type": "code",
   "execution_count": 3,
   "metadata": {},
   "outputs": [],
   "source": [
    "sys.path.append(basePath + 'code')\n",
    "import fileHandling\n",
    "import plotting\n",
    "import metrics"
   ]
  },
  {
   "cell_type": "markdown",
   "metadata": {},
   "source": [
    "## Define new paths"
   ]
  },
  {
   "cell_type": "code",
   "execution_count": 4,
   "metadata": {},
   "outputs": [],
   "source": [
    "# Output path for pickles and plots\n",
    "outdata = basePath + 'outData/modelAnalysis/model_comparisons/distanceAnalysis/expressedElements/'\n",
    "outplot = basePath + 'outPlot/modelAnalysis/model_comparisons/distanceAnalysis/expressedElements/'\n",
    "\n",
    "# create folders\n",
    "! mkdir -p {outdata}\n",
    "! mkdir -p {outplot}"
   ]
  },
  {
   "cell_type": "markdown",
   "metadata": {},
   "source": [
    "## Get model files and regions "
   ]
  },
  {
   "cell_type": "code",
   "execution_count": 5,
   "metadata": {},
   "outputs": [],
   "source": [
    "## Path were the models are stored\n",
    "cells, regionsAll, models = fileHandling.getModelsPaths(basePath, ending='models')\n",
    "\n",
    "## get regions\n",
    "regiones = {}\n",
    "# get info of the regions\n",
    "for cell in cells:\n",
    "    for regi in regionsAll:\n",
    "        if not regi in regiones:\n",
    "            \n",
    "            regiones[regi] = fileHandling.getREgiInfo(basePath, regi, cell)\n",
    "        else:\n",
    "            infot = fileHandling.getREgiInfo(basePath, regi, cell)\n",
    "            if infot != regiones[regi]:\n",
    "                print('Region %s, cell %s has different parameters than previous cells')\n",
    "                print('This code is not prepared to compare models with different length \\\n",
    "                      or resolution')"
   ]
  },
  {
   "cell_type": "markdown",
   "metadata": {},
   "source": [
    "## Retrieve clustering data "
   ]
  },
  {
   "cell_type": "code",
   "execution_count": 6,
   "metadata": {},
   "outputs": [
    {
     "name": "stdout",
     "output_type": "stream",
     "text": [
      "Recovering previous clustering data from:\n",
      "/home/julen/TADdyn/TADdyn_tutorial/outData/modelAnalysis/clustering/allClusterDict.pickle\n"
     ]
    }
   ],
   "source": [
    "# If we ran this script with less models, will recover the previous clustering info\n",
    "clustersPickle= basePath + 'outData/modelAnalysis/clustering/allClusterDict.pickle' \n",
    "with open(clustersPickle, \"rb\") as input_file:\n",
    "    allClusters = pickle.load(input_file)\n",
    "print('Recovering previous clustering data from:')\n",
    "print(clustersPickle)"
   ]
  },
  {
   "cell_type": "markdown",
   "metadata": {},
   "source": [
    "## Load additional input data "
   ]
  },
  {
   "cell_type": "code",
   "execution_count": 7,
   "metadata": {},
   "outputs": [
    {
     "name": "stdout",
     "output_type": "stream",
     "text": [
      "Enhancer HS-E1 was in same bin as a promoter (HBE1).     Bin position 294\n",
      "Enhancer enh5 was in same bin as a promoter (STIM1,MIR4687,AC090587.1).     Bin position 12\n",
      "Enhancer HS5 was in same bin as a promoter (OR51AB1P).     Bin position 299\n",
      "Enhancer HS7 was in same bin as a promoter (OR51B4).     Bin position 301\n",
      "Enhancer 3HS1 was in same bin as a promoter (OR51V1).     Bin position 281\n"
     ]
    }
   ],
   "source": [
    "enhAll, promAll, interAll = fileHandling.getElementCoordinates(regionsAll, regiones, enhanFile,\n",
    "                          promFile, interestFile)"
   ]
  },
  {
   "cell_type": "markdown",
   "metadata": {},
   "source": [
    "## Load expression data "
   ]
  },
  {
   "cell_type": "code",
   "execution_count": 8,
   "metadata": {},
   "outputs": [],
   "source": [
    "# get the bins with expression\n",
    "markers = fileHandling.createMarkers({}, {}, regiones, orderCell,\n",
    "                 signalData, thresshold=thresshold)\n",
    "# we just loaded signal, that in this case is expression\n",
    "expresedBins = markers['Signal']"
   ]
  },
  {
   "cell_type": "markdown",
   "metadata": {},
   "source": [
    "## Obtain distance distribution from interest elements"
   ]
  },
  {
   "cell_type": "code",
   "execution_count": 9,
   "metadata": {},
   "outputs": [],
   "source": [
    "selected = []\n",
    "selected += [(k, interAll[regi]['promoter'][k]['name']) \n",
    "             for k in interAll[regi]['promoter']]\n",
    "selected += [(k, interAll[regi]['enhancer'][k]['name']) \n",
    "             for k in interAll[regi]['enhancer']]\n",
    "selected = sorted(list(set(selected)))"
   ]
  },
  {
   "cell_type": "code",
   "execution_count": 10,
   "metadata": {},
   "outputs": [],
   "source": [
    "distancesAll = metrics.getExpressedDistances(selected, expresedBins, regionsAll, models,\n",
    "                                            modelsKeep, cluster, allClusters)"
   ]
  },
  {
   "cell_type": "markdown",
   "metadata": {},
   "source": [
    "## Plot "
   ]
  },
  {
   "cell_type": "code",
   "execution_count": 11,
   "metadata": {},
   "outputs": [
    {
     "data": {
      "image/png": "[encoded data removed]",
      "text/plain": [
       "<Figure size 720x720 with 1 Axes>"
      ]
     },
     "metadata": {
      "needs_background": "light"
     },
     "output_type": "display_data"
    }
   ],
   "source": [
    "if saveFig == True:\n",
    "    pdf = matplotlib.backends.backend_pdf.PdfPages(outplot + 'DistancesExpression.pdf')\n",
    "else:\n",
    "    pdf = None\n",
    "\n",
    "plotting.expressionBoxplot(distancesAll, orderCell, colors, pdf=pdf)\n"
   ]
  },
  {
   "cell_type": "markdown",
   "metadata": {},
   "source": [
    "## Get KS stats "
   ]
  },
  {
   "cell_type": "code",
   "execution_count": 12,
   "metadata": {},
   "outputs": [
    {
     "name": "stdout",
     "output_type": "stream",
     "text": [
      "-- HBG2,AC104389.6 --\n",
      "Ery nCD4 Ks_2sampResult(statistic=0.8186813186813187, pvalue=6.287019048761005e-09)\n",
      "Ery Mon Ks_2sampResult(statistic=0.7142857142857143, pvalue=3.903755347896314e-07)\n",
      "nCD4 Mon Ks_2sampResult(statistic=0.6538461538461539, pvalue=7.544330778452916e-06)\n"
     ]
    }
   ],
   "source": [
    "for genePos, geneName in distancesAll:\n",
    "    print '-- %s --' %(geneName)\n",
    "    for regi in distancesAll[(genePos, geneName)]:\n",
    "        cells = []\n",
    "        distances = []\n",
    "        for cell in distancesAll[(genePos, geneName)][regi]:\n",
    "            for dist in distancesAll[(genePos, geneName)][regi][cell]:\n",
    "                cells += [cell]\n",
    "                distances += [dist]\n",
    "        dataframe = pd.DataFrame.from_dict({'cell':cells, 'Particle distances':distances})\n",
    "        \n",
    "        combs = itertools.combinations(orderCell, 2)\n",
    "        for cell1, cell2 in combs:\n",
    "            data1 = dataframe[dataframe['cell'] == cell1]['Particle distances']\n",
    "            data2 = dataframe[dataframe['cell'] == cell2]['Particle distances']\n",
    "            stat1 = stats.ks_2samp(data1, data2)\n",
    "            print cell1, cell2, stat1"
   ]
  }
 ],
 "metadata": {
  "kernelspec": {
   "display_name": "Python 2",
   "language": "python",
   "name": "python2"
  },
  "language_info": {
   "codemirror_mode": {
    "name": "ipython",
    "version": 2
   },
   "file_extension": ".py",
   "mimetype": "text/x-python",
   "name": "python",
   "nbconvert_exporter": "python",
   "pygments_lexer": "ipython2",
   "version": "2.7.18"
  },
  "toc": {
   "base_numbering": 1,
   "nav_menu": {},
   "number_sections": true,
   "sideBar": true,
   "skip_h1_title": false,
   "title_cell": "Table of Contents",
   "title_sidebar": "Contents",
   "toc_cell": false,
   "toc_position": {
    "height": "calc(100% - 180px)",
    "left": "10px",
    "top": "150px",
    "width": "284.444px"
   },
   "toc_section_display": true,
   "toc_window_display": true
  }
 },
 "nbformat": 4,
 "nbformat_minor": 2
}
