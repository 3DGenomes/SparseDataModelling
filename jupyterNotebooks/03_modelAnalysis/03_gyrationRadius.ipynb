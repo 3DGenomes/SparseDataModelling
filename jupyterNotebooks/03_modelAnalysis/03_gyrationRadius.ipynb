{
 "cells": [
  {
   "cell_type": "markdown",
   "metadata": {},
   "source": [
    "In this Notebook we will obtain the distribution of radius of gyration of the models. This gives an idea of how open or close is the reconstructed conformation as compared between the different cells"
   ]
  },
  {
   "cell_type": "markdown",
   "metadata": {},
   "source": [
    "# Libraries and functions "
   ]
  },
  {
   "cell_type": "code",
   "execution_count": 1,
   "metadata": {},
   "outputs": [],
   "source": [
    "from pytadbit.modelling.structuralmodels import load_structuralmodels\n",
    "import cPickle as pickle\n",
    "import matplotlib.backends.backend_pdf\n",
    "import sys\n",
    "import pandas as pd\n",
    "from matplotlib import pyplot as plt\n",
    "import seaborn as sns\n",
    "import itertools\n",
    "from scipy import stats\n",
    "import numpy as np\n"
   ]
  },
  {
   "cell_type": "markdown",
   "metadata": {},
   "source": [
    "# Parameters to modify "
   ]
  },
  {
   "cell_type": "code",
   "execution_count": 2,
   "metadata": {},
   "outputs": [],
   "source": [
    "# Base path where the folder branch is stored\n",
    "basePath = '/home/julen/TADdyn/TADdyn_tutorial/'\n",
    "# Maximum number of models to be used. From ~1500 done, we will keep the best 1000\n",
    "modelsKeep = 1000\n",
    "# Define the orther of the cells for the ploting\n",
    "orderCell = ['Ery', 'nCD4', 'Mon']\n",
    "# Define the coloring options for each cell\n",
    "colors = [(120/255., 94/255., 240/255.), \n",
    "          (254/255., 97/255., 0/255.),\n",
    "          (220/255., 38/255., 127/255.)\n",
    "         ]\n",
    "# Wether to store figures in pdf or not\n",
    "saveFig = False"
   ]
  },
  {
   "cell_type": "markdown",
   "metadata": {},
   "source": [
    "# To run "
   ]
  },
  {
   "cell_type": "markdown",
   "metadata": {},
   "source": [
    "## Import additional libraries "
   ]
  },
  {
   "cell_type": "code",
   "execution_count": 3,
   "metadata": {},
   "outputs": [],
   "source": [
    "sys.path.append(basePath + 'code')\n",
    "import fileHandling\n",
    "import metrics"
   ]
  },
  {
   "cell_type": "markdown",
   "metadata": {},
   "source": [
    "## Define new paths "
   ]
  },
  {
   "cell_type": "code",
   "execution_count": 4,
   "metadata": {},
   "outputs": [],
   "source": [
    "outplot = basePath + 'outPlot/modelAnalysis/model_comparisons/metrics/'"
   ]
  },
  {
   "cell_type": "markdown",
   "metadata": {},
   "source": [
    "## Get model files and regions "
   ]
  },
  {
   "cell_type": "code",
   "execution_count": 5,
   "metadata": {},
   "outputs": [],
   "source": [
    "## Path were the models are stored\n",
    "cells, regionsAll, models = fileHandling.getModelsPaths(basePath, ending='models')\n",
    "                \n",
    "## get regions\n",
    "regiones = {}\n",
    "# get info of the regions\n",
    "for cell in cells:\n",
    "    for regi in regionsAll:\n",
    "        if not regi in regiones:\n",
    "            \n",
    "            regiones[regi] = fileHandling.getREgiInfo(basePath, regi, cell)\n",
    "        else:\n",
    "            infot = fileHandling.getREgiInfo(basePath, regi, cell)\n",
    "            if infot != regiones[regi]:\n",
    "                print('Region %s, cell %s has different parameters than previous cells')\n",
    "                print('This code is not prepared to compare models with different length \\\n",
    "                      or resolution')"
   ]
  },
  {
   "cell_type": "markdown",
   "metadata": {},
   "source": [
    "# Gyration radius in all models "
   ]
  },
  {
   "cell_type": "code",
   "execution_count": 6,
   "metadata": {},
   "outputs": [
    {
     "data": {
      "text/plain": [
       "{'Ery': {'b-globin': '/home/julen/TADdyn/TADdyn_tutorial/models/Ery/b-globin/Ery_b-globin_C200.0L0.0U0.0M300Res5000.models'},\n",
       " 'Mon': {'b-globin': '/home/julen/TADdyn/TADdyn_tutorial/models/Mon/b-globin/Mon_b-globin_C200.0L-0.5U0.0M300Res5000.models'},\n",
       " 'nCD4': {'b-globin': '/home/julen/TADdyn/TADdyn_tutorial/models/nCD4/b-globin/nCD4_b-globin_C200.0L0.0U0.0M300Res5000.models'}}"
      ]
     },
     "execution_count": 6,
     "metadata": {},
     "output_type": "execute_result"
    }
   ],
   "source": [
    "models"
   ]
  },
  {
   "cell_type": "code",
   "execution_count": 7,
   "metadata": {},
   "outputs": [],
   "source": [
    "allRadius = {}\n",
    "for cell in sorted(models):\n",
    "    allRadius[cell] = {}\n",
    "    for regi in models[cell]:\n",
    "        mo = models[cell][regi]\n",
    "        mods = load_structuralmodels(mo)\n",
    "        # keep the amount of selected models\n",
    "        mods.define_best_models(modelsKeep)\n",
    "        allR = []\n",
    "        for mo1 in mods:\n",
    "            r = metrics.radius_of_gyration(mo1)\n",
    "            allR.append(r)\n",
    "        id0 = mo.split('/')[-1].split('_')[1]\n",
    "        allRadius[cell][id0] = allR"
   ]
  },
  {
   "cell_type": "code",
   "execution_count": 8,
   "metadata": {
    "scrolled": true
   },
   "outputs": [
    {
     "data": {
      "image/png": "[encoded data removed]",
      "text/plain": [
       "<Figure size 432x288 with 1 Axes>"
      ]
     },
     "metadata": {
      "needs_background": "light"
     },
     "output_type": "display_data"
    }
   ],
   "source": [
    "\n",
    "\n",
    "if saveFig == True:\n",
    "    pdf = matplotlib.backends.backend_pdf.PdfPages(outplot + 'gyrationRadiuses.pdf')\n",
    "\n",
    "for regi in regionsAll:\n",
    "    x = []\n",
    "    y = []\n",
    "    for expe in orderCell:\n",
    "        y += allRadius[expe][regi]\n",
    "        x += [expe] * len(allRadius[expe][regi])\n",
    "        \n",
    "    pd_dat = pd.DataFrame(\n",
    "                {'Gyration radius':y,\n",
    "                'Experiment': x})\n",
    "\n",
    "    fig = plt.figure()\n",
    "    ax = sns.boxplot(x='Experiment', y='Gyration radius', data=pd_dat, order=orderCell,palette=colors)\n",
    "    #plt.plot(x, y, 'o', color='red')\n",
    "    plt.title('Gyration radius in %s' %regi)\n",
    "    #plt.ylim(145, 250)\n",
    "    #plt.axhline(0)\n",
    "    plt.ylabel('Radius of gyration (nm)', size=15)\n",
    "    plt.xlabel('Cell', size=15)\n",
    "    plt.xticks(rotation=0, size=13)\n",
    "    plt.yticks(size=13)\n",
    "\n",
    "    if saveFig == True:\n",
    "        pdf.savefig( fig , bbox_inches='tight')\n",
    "    plt.show()\n",
    "\n",
    "if saveFig == True:\n",
    "    pdf.close()"
   ]
  },
  {
   "cell_type": "code",
   "execution_count": 9,
   "metadata": {},
   "outputs": [
    {
     "name": "stdout",
     "output_type": "stream",
     "text": [
      "Ery Mon Ks_2sampResult(statistic=0.889, pvalue=0.0)\n",
      "Ery nCD4 Ks_2sampResult(statistic=0.7040000000000001, pvalue=4.426677365602397e-218)\n",
      "Mon nCD4 Ks_2sampResult(statistic=0.608, pvalue=9.103670491916157e-163)\n",
      "Ery 247.80611073506333 2.6153250712796847\n",
      "Mon 237.22575620788024 1.8375841564062227\n",
      "nCD4 241.59292530979457 1.5726104584342266\n"
     ]
    }
   ],
   "source": [
    "combis = itertools.combinations(cells, 2)\n",
    "for expe1, expe2 in combis:\n",
    "    print expe1, expe2, stats.ks_2samp(allRadius[expe1][regi], allRadius[expe2][regi])\n",
    "    \n",
    "for expe in cells:\n",
    "    print expe, np.median(allRadius[expe][regi]), metrics.median_absolute_deviation(allRadius[expe][regi])"
   ]
  }
 ],
 "metadata": {
  "kernelspec": {
   "display_name": "Python 2",
   "language": "python",
   "name": "python2"
  },
  "language_info": {
   "codemirror_mode": {
    "name": "ipython",
    "version": 2
   },
   "file_extension": ".py",
   "mimetype": "text/x-python",
   "name": "python",
   "nbconvert_exporter": "python",
   "pygments_lexer": "ipython2",
   "version": "2.7.16"
  },
  "toc": {
   "base_numbering": 1,
   "nav_menu": {},
   "number_sections": true,
   "sideBar": true,
   "skip_h1_title": false,
   "title_cell": "Table of Contents",
   "title_sidebar": "Contents",
   "toc_cell": false,
   "toc_position": {},
   "toc_section_display": true,
   "toc_window_display": false
  }
 },
 "nbformat": 4,
 "nbformat_minor": 2
}
