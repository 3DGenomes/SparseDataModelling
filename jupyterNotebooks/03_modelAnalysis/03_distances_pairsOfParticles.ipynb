{
 "cells": [
  {
   "cell_type": "markdown",
   "metadata": {},
   "source": [
    "With this Notebook we will show the distance distributions between a enhancer of interest and some promoters of interest"
   ]
  },
  {
   "cell_type": "markdown",
   "metadata": {},
   "source": [
    "# Libraries and functions "
   ]
  },
  {
   "cell_type": "code",
   "execution_count": 1,
   "metadata": {},
   "outputs": [],
   "source": [
    "from pytadbit.modelling.structuralmodels import load_structuralmodels\n",
    "import cPickle as pickle\n",
    "import matplotlib.backends.backend_pdf\n",
    "from matplotlib import pyplot as plt\n",
    "import copy\n",
    "\n",
    "import numpy as np\n",
    "from scipy import stats\n",
    "import itertools\n",
    "import sys\n"
   ]
  },
  {
   "cell_type": "markdown",
   "metadata": {},
   "source": [
    "# Parameters to modify "
   ]
  },
  {
   "cell_type": "code",
   "execution_count": 2,
   "metadata": {},
   "outputs": [],
   "source": [
    "# Base path where the folder branch is stored\n",
    "basePath = '/home/julen/TADdyn/TADdyn_tutorial/'\n",
    "# Maximum number of models to be used. From ~1500 done, we will keep the best 1000\n",
    "modelsKeep = 1000\n",
    "# Define the orther of the cells for the ploting\n",
    "orderCell = ['Ery', 'nCD4', 'Mon']\n",
    "# Define the coloring options for each cell\n",
    "colors = [(120/255., 94/255., 240/255.), \n",
    "          (254/255., 97/255., 0/255.),\n",
    "          (220/255., 38/255., 127/255.)\n",
    "         ]\n",
    "# Wether to store figures in pdf or not\n",
    "saveFig = False\n",
    "# Wether to divide the analysis by model clusters\n",
    "toCluster = False\n",
    "\n",
    "\n",
    "## Path to files with coordinates to regulatory elements\n",
    "# Locations in which we will assign promoters\n",
    "promFile = basePath + 'additionaInput/gene_tss.txt'\n",
    "# Locations in which we will assign enhancers or other regulatory elements\n",
    "enhanFile = basePath + 'additionaInput/regElem.txt'\n",
    "# Locations of the promoters or enhancers in which we will focus for the distance analysis\n",
    "interestFile = basePath + 'additionaInput/interest.txt'"
   ]
  },
  {
   "cell_type": "markdown",
   "metadata": {},
   "source": [
    "The format of the input files with locations information is:  \n",
    "chromosome    Start    End    Name  \n",
    "\n",
    "As an example, in this case we have retrieved gene TSS locations to assign their associated promoter locations to the bin in which the TSS lies:  \n",
    "chr11\t2270952\t2270952\tASCL2\n",
    "\n",
    "Bear in mind that for promoters we use the \"Start\" position for the location, whereas for enhancers we use the midpoint between \"Start\" and \"End\" \n",
    "\n",
    "In this script we will get the distances between all the enhancers in \"interestFile\" and all the promoters in \"interestFile\"  \n",
    "\n",
    "*Te way to name the chromosome (with or without \"chr\") should be consistent with the one seen in the interaction matrix name  "
   ]
  },
  {
   "cell_type": "markdown",
   "metadata": {},
   "source": [
    "# To run "
   ]
  },
  {
   "cell_type": "markdown",
   "metadata": {},
   "source": [
    "## Import additional libraries "
   ]
  },
  {
   "cell_type": "code",
   "execution_count": 3,
   "metadata": {},
   "outputs": [],
   "source": [
    "sys.path.append(basePath + 'code')\n",
    "import fileHandling\n",
    "import plotting"
   ]
  },
  {
   "cell_type": "markdown",
   "metadata": {},
   "source": [
    "## Define new paths "
   ]
  },
  {
   "cell_type": "code",
   "execution_count": 4,
   "metadata": {},
   "outputs": [],
   "source": [
    "# Output path for pickles and plots\n",
    "outdata = basePath + 'outData/modelAnalysis/model_comparisons/distanceAnalysis/pairwise/'\n",
    "outplot = basePath + 'outPlot/modelAnalysis/model_comparisons/distanceAnalysis/pairwise/'\n",
    "\n",
    "# create folders\n",
    "! mkdir -p {outdata}\n",
    "! mkdir -p {outplot}"
   ]
  },
  {
   "cell_type": "markdown",
   "metadata": {},
   "source": [
    "## Get model files and regions "
   ]
  },
  {
   "cell_type": "code",
   "execution_count": 5,
   "metadata": {},
   "outputs": [],
   "source": [
    "## Path were the models are stored\n",
    "cells, regionsAll, models = fileHandling.getModelsPaths(basePath, ending='models')\n",
    "                \n",
    "## get regions\n",
    "regiones = {}\n",
    "# get info of the regions\n",
    "for cell in cells:\n",
    "    for regi in regionsAll:\n",
    "        if not regi in regiones:\n",
    "            \n",
    "            regiones[regi] = fileHandling.getREgiInfo(basePath, regi, cell)\n",
    "        else:\n",
    "            infot = fileHandling.getREgiInfo(basePath, regi, cell)\n",
    "            if infot != regiones[regi]:\n",
    "                print('Region %s, cell %s has different parameters than previous cells')\n",
    "                print('This code is not prepared to compare models with different length \\\n",
    "                      or resolution')"
   ]
  },
  {
   "cell_type": "markdown",
   "metadata": {},
   "source": [
    "## Retrieve clustering data "
   ]
  },
  {
   "cell_type": "code",
   "execution_count": 6,
   "metadata": {},
   "outputs": [],
   "source": [
    "# If we ran this script with less models, will recover the previous clustering info\n",
    "if toCluster == True:\n",
    "    clustersPickle= basePath + 'outData/modelAnalysis/clustering/allClusterDict.pickle' \n",
    "    with open(clustersPickle, \"rb\") as input_file:\n",
    "        allClusters = pickle.load(input_file)\n",
    "    print('Recovering previous clustering data from:')\n",
    "    print(clustersPickle)\n"
   ]
  },
  {
   "cell_type": "markdown",
   "metadata": {},
   "source": [
    "## Load additional input data"
   ]
  },
  {
   "cell_type": "code",
   "execution_count": 7,
   "metadata": {},
   "outputs": [
    {
     "name": "stdout",
     "output_type": "stream",
     "text": [
      "Enhancer HS-E1 was in same bin as a promoter (HBE1).     Bin position 294\n",
      "Enhancer enh5 was in same bin as a promoter (STIM1,MIR4687,AC090587.1).     Bin position 12\n",
      "Enhancer HS5 was in same bin as a promoter (OR51AB1P).     Bin position 299\n",
      "Enhancer HS7 was in same bin as a promoter (OR51B4).     Bin position 301\n",
      "Enhancer 3HS1 was in same bin as a promoter (OR51V1).     Bin position 281\n"
     ]
    }
   ],
   "source": [
    "Enhinter, PPinter, interAll = fileHandling.getElementCoordinates(regionsAll, regiones, enhanFile,\n",
    "                          promFile, interestFile)\n"
   ]
  },
  {
   "cell_type": "markdown",
   "metadata": {},
   "source": [
    "## Get distances between particles "
   ]
  },
  {
   "cell_type": "code",
   "execution_count": 8,
   "metadata": {},
   "outputs": [
    {
     "name": "stdout",
     "output_type": "stream",
     "text": [
      "### b-globin ###\n",
      "--- Ery ---\n",
      "--- nCD4 ---\n",
      "--- Mon ---\n"
     ]
    }
   ],
   "source": [
    "distancesTemp = {}\n",
    "for regi in regionsAll:\n",
    "    distancesTemp[regi] = {}\n",
    "    print('#' * 3 + ' %s ' %regi + '#' * 3)\n",
    "    for cell in orderCell:\n",
    "        print('-' * 3 + ' %s ' %cell + '-' * 3)\n",
    "        \n",
    "        fi = models[cell][regi]\n",
    "        if cell not in distancesTemp[regi]:\n",
    "            distancesTemp[regi][cell] = {}\n",
    "\n",
    "        # Get models from first cluster\n",
    "        models2 = load_structuralmodels(fi)\n",
    "        # keep the amount of selected models\n",
    "        models2.define_best_models(min(len(models2),modelsKeep))\n",
    "\n",
    "        if toCluster == True:\n",
    "            for clu in sorted(allClusters['%s_%s' %(cell, regi)].keys()):\n",
    "                if clu <= 10 and len(allClusters['%s_%s' %(cell, regi)][clu]) >= 50:\n",
    "                    models = [models2[str(m)]['index'] for m in allClusters['%s_%s' %(cell, regi)][clu]]\n",
    "                    models = [models2[mdl] for mdl in models]\n",
    "\n",
    "                    id2 = cell + '-%s' %clu\n",
    "                    if id2 not in distancesTemp[regi]:\n",
    "                        distancesTemp[regi][id2] = {}\n",
    "\n",
    "                    # Get distances for each enhancer and gene\n",
    "                    for enh in interAll[regi]['enhancer']:\n",
    "                        if enh not in distancesTemp[regi][id2]:\n",
    "                            distancesTemp[regi][id2][enh] = {}\n",
    "                        for gene in interAll[regi]['promoter']:\n",
    "\n",
    "                            # Lo de +1 es porque en algun punto cambia la numeracion siendo 1 el menor valor\n",
    "                            dists = [mdl.distance(gene + 1, enh + 1) for mdl in models]\n",
    "                            geneName = interAll[regi]['promoter'][gene]['name']\n",
    "                            distancesTemp[regi][id2][enh][geneName] = dists\n",
    "\n",
    "\n",
    "        else:\n",
    "            # Get distances for each crispered enhancer and gene\n",
    "            for enh in interAll[regi]['enhancer']:\n",
    "                if enh not in distancesTemp[regi][cell]:\n",
    "                    distancesTemp[regi][cell][enh] = {}\n",
    "                for gene in interAll[regi]['promoter']:\n",
    "\n",
    "                    # Lo de +1 es porque en algun punto cambia la numeracion siendo 1 el menor valor\n",
    "                    dists = [mdl.distance(gene + 1, enh + 1) for mdl in models2]\n",
    "                    geneName = interAll[regi]['promoter'][gene]['name']\n",
    "                    distancesTemp[regi][cell][enh][geneName] = dists\n"
   ]
  },
  {
   "cell_type": "code",
   "execution_count": 9,
   "metadata": {},
   "outputs": [],
   "source": [
    "# Store obtained distances\n",
    "with open(outdata + 'pairwiseDistances.pickle', \"wb\") as output_file:\n",
    "    pickle.dump(distancesTemp, output_file)"
   ]
  },
  {
   "cell_type": "raw",
   "metadata": {},
   "source": [
    "with open(outdata + 'pairwiseDistances.pickle', 'rb') as output_file:\n",
    "        distancesTemp = pickle.load(output_file)"
   ]
  },
  {
   "cell_type": "markdown",
   "metadata": {},
   "source": [
    "## Plot "
   ]
  },
  {
   "cell_type": "code",
   "execution_count": 15,
   "metadata": {
    "scrolled": true
   },
   "outputs": [
    {
     "name": "stdout",
     "output_type": "stream",
     "text": [
      "['Ery', 'nCD4', 'Mon']\n"
     ]
    },
    {
     "data": {
      "image/png": "[encoded data removed]",
      "text/plain": [
       "<Figure size 720x720 with 1 Axes>"
      ]
     },
     "metadata": {
      "needs_background": "light"
     },
     "output_type": "display_data"
    }
   ],
   "source": [
    "# secondary list of colors for each gene\n",
    "colors = [(0.7647058823529411, 0.050980392156862744, 0.13725490196078433),\n",
    " (0.7647058823529411, 0.050980392156862744, 0.13725490196078433),\n",
    " (0, 0.596078431372549, 0.26666666666666666),\n",
    " (0, 0.596078431372549, 0.26666666666666666),\n",
    " (1.0, 1.0, 0.023529411764705882)]\n",
    "\n",
    "saveFig = True\n",
    "if saveFig == True:\n",
    "    if toCluster == False:\n",
    "        pdf = matplotlib.backends.backend_pdf.PdfPages(outplot + 'DistancesPromEnh.pdf')\n",
    "    else:\n",
    "        pdf = matplotlib.backends.backend_pdf.PdfPages(outplot + 'DistancesPromEnh_clustered.pdf')\n",
    "else:\n",
    "    pdf = []\n",
    "    \n",
    "for regi in sorted(distancesTemp.keys()):\n",
    "    #if not os.path.exists(outpath + regi):\n",
    "    #    os.makedirs(outpath + regi)\n",
    "    \n",
    "    cel_ = 'Ery'\n",
    "    for enh in sorted(distancesTemp[regi][cel_].keys()):\n",
    "        newDict = {}\n",
    "        for cel in cells:\n",
    "            if toCluster == False:\n",
    "                if '-' in cel:\n",
    "                    continue\n",
    "            newDict[cel] = distancesTemp[regi][cel][enh]\n",
    "            newDict2 = copy.copy(newDict)\n",
    "\n",
    "            # to split by one promoter in each plot\n",
    "            if toCluster == False:\n",
    "\n",
    "                #realEnh = (enh * resol) + regiones[regi][1]\n",
    "                realEnh = Enhinter[regi][enh]['name']\n",
    "\n",
    "        title = 'Model distances distribution in %s, enh:%s' %(regi, realEnh)\n",
    "\n",
    "        colors3 = []\n",
    "        for f in colors:\n",
    "            colors3 += [f] * len(orderCell)\n",
    "        plotting.plotBoxplot(newDict2, saveFig=saveFig, title=title, meanDistance=False,\n",
    "                      order=['AC104389.7,HBB', 'HBD', 'BGLT3,HBG1', 'HBG2,AC104389.6', 'HBE1'], \n",
    "                     orderCell=orderCell,\n",
    "                   colors2=colors3, pdf=pdf)   \n",
    "\n",
    "        plt.ylim(0,330)\n",
    "        plt.show()\n",
    "if saveFig == True:\n",
    "    pdf.close()"
   ]
  },
  {
   "cell_type": "markdown",
   "metadata": {},
   "source": [
    "## Get p-values "
   ]
  },
  {
   "cell_type": "code",
   "execution_count": 16,
   "metadata": {},
   "outputs": [
    {
     "name": "stdout",
     "output_type": "stream",
     "text": [
      "***** HS4,HS3.5 *****\n",
      "##### HBD #####\n",
      "Mon nCD4\n",
      "Ks_2sampResult(statistic=0.050999999999999934, pvalue=0.1440824352462374)\n",
      "Mon Ery\n",
      "Ks_2sampResult(statistic=0.36100000000000004, pvalue=1.1727333397653598e-57)\n",
      "nCD4 Ery\n",
      "Ks_2sampResult(statistic=0.35800000000000004, pvalue=1.0386480044592284e-56)\n",
      "##### AC104389.7,HBB #####\n",
      "Mon nCD4\n",
      "Ks_2sampResult(statistic=0.052000000000000046, pvalue=0.1298437801612358)\n",
      "Mon Ery\n",
      "Ks_2sampResult(statistic=0.22799999999999998, pvalue=2.962869184240814e-23)\n",
      "nCD4 Ery\n",
      "Ks_2sampResult(statistic=0.18999999999999995, pvalue=2.8011558612659293e-16)\n",
      "##### BGLT3,HBG1 #####\n",
      "Mon nCD4\n",
      "Ks_2sampResult(statistic=0.03200000000000003, pvalue=0.6785103823828891)\n",
      "Mon Ery\n",
      "Ks_2sampResult(statistic=0.38500000000000006, pvalue=1.6086825057325864e-65)\n",
      "nCD4 Ery\n",
      "Ks_2sampResult(statistic=0.38, pvalue=7.695894591186337e-64)\n",
      "##### HBE1 #####\n",
      "Mon nCD4\n",
      "Ks_2sampResult(statistic=0.11699999999999994, pvalue=1.9469841454623217e-06)\n",
      "Mon Ery\n",
      "Ks_2sampResult(statistic=0.18400000000000005, pvalue=2.709027126534228e-15)\n",
      "nCD4 Ery\n",
      "Ks_2sampResult(statistic=0.07500000000000007, pvalue=0.00677255239123794)\n",
      "##### HBG2,AC104389.6 #####\n",
      "Mon nCD4\n",
      "Ks_2sampResult(statistic=0.041000000000000036, pvalue=0.36319895384167805)\n",
      "Mon Ery\n",
      "Ks_2sampResult(statistic=0.185, pvalue=1.865362075408059e-15)\n",
      "nCD4 Ery\n",
      "Ks_2sampResult(statistic=0.15299999999999997, pvalue=1.0488725334071604e-10)\n"
     ]
    }
   ],
   "source": [
    "for regi in sorted(distancesTemp.keys()):\n",
    "    #if not os.path.exists(outpath + regi):\n",
    "    #    os.makedirs(outpath + regi)\n",
    "    \n",
    "    cel_ = 'Ery'\n",
    "    for enh in sorted(distancesTemp[regi][cel_].keys()):\n",
    "        realEnh = Enhinter[regi][enh]['name']\n",
    "        print '*' * 5, realEnh, '*' * 5\n",
    "        newDict = {}\n",
    "        for cel in cells:\n",
    "            if toCluster == False:\n",
    "                if '-' in cel:\n",
    "                    continue\n",
    "            newDict[cel] = distancesTemp[regi][cel][enh]\n",
    "            newDict2 = copy.copy(newDict)\n",
    "            \n",
    "        cells = newDict2.keys()\n",
    "        for gene in newDict2[newDict2.keys()[0]].keys():\n",
    "            print '#' * 5, gene, '#' * 5\n",
    "\n",
    "            combinations = itertools.combinations(cells, 2)\n",
    "            for cell1, cell2 in combinations:\n",
    "                print cell1, cell2\n",
    "\n",
    "                stat1 = stats.ks_2samp(newDict2[cell1][gene], newDict2[cell2][gene])\n",
    "                print stat1\n",
    "                #stat1 = \"p={:.2E}\".format(Decimal(stat1[1])) + \" s=%.2f\" % round(stat1[0],2)\n",
    "                #stat1 = statConvert(stat1)"
   ]
  }
 ],
 "metadata": {
  "kernelspec": {
   "display_name": "Python 2",
   "language": "python",
   "name": "python2"
  },
  "language_info": {
   "codemirror_mode": {
    "name": "ipython",
    "version": 2
   },
   "file_extension": ".py",
   "mimetype": "text/x-python",
   "name": "python",
   "nbconvert_exporter": "python",
   "pygments_lexer": "ipython2",
   "version": "2.7.16"
  },
  "toc": {
   "base_numbering": 1,
   "nav_menu": {},
   "number_sections": true,
   "sideBar": true,
   "skip_h1_title": false,
   "title_cell": "Table of Contents",
   "title_sidebar": "Contents",
   "toc_cell": false,
   "toc_position": {
    "height": "calc(100% - 180px)",
    "left": "10px",
    "top": "150px",
    "width": "341.484px"
   },
   "toc_section_display": true,
   "toc_window_display": false
  }
 },
 "nbformat": 4,
 "nbformat_minor": 2
}
