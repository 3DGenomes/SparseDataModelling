{
 "cells": [
  {
   "cell_type": "markdown",
   "metadata": {},
   "source": [
    "In this Notebook we will convert the model objects from TADdyn into TADbit .models files, allowing us to take advantage of all the analysis and plots implemented in TADbit. NOTE: If you are working with the containers, you should open this set of jupyter Notebooks from **singularity_TADbit.sif**"
   ]
  },
  {
   "cell_type": "markdown",
   "metadata": {},
   "source": [
    "# Libraries and functions "
   ]
  },
  {
   "cell_type": "code",
   "execution_count": 1,
   "metadata": {},
   "outputs": [],
   "source": [
    "import sys"
   ]
  },
  {
   "cell_type": "markdown",
   "metadata": {},
   "source": [
    "# Parameters to modify "
   ]
  },
  {
   "cell_type": "code",
   "execution_count": 2,
   "metadata": {},
   "outputs": [],
   "source": [
    "# Base path where the folder branch is stored\n",
    "basePath = '/home/julen/TADdyn/SparseDataModelling/'"
   ]
  },
  {
   "cell_type": "markdown",
   "metadata": {},
   "source": [
    "# Run "
   ]
  },
  {
   "cell_type": "markdown",
   "metadata": {},
   "source": [
    "## Import additional libraries "
   ]
  },
  {
   "cell_type": "code",
   "execution_count": 3,
   "metadata": {},
   "outputs": [],
   "source": [
    "sys.path.append(basePath + 'code')\n",
    "import fileHandling\n",
    "import metrics"
   ]
  },
  {
   "cell_type": "markdown",
   "metadata": {},
   "source": [
    "## Convert TADdyn models"
   ]
  },
  {
   "cell_type": "markdown",
   "metadata": {},
   "source": [
    "This code gets the paths were .TADdynDict files are stored inside of the models folder.\n",
    "NOTE: The Notebook will break if you have more than one TADdynDict file in each folder associated with a cell and region. This could be the case if you built models using different top parameters. If so, select one and move or delete the other"
   ]
  },
  {
   "cell_type": "code",
   "execution_count": 4,
   "metadata": {},
   "outputs": [],
   "source": [
    "# Path were the models are stored\n",
    "cells, regionsAll, models = fileHandling.getModelsPaths(basePath, ending='TADdynDict')"
   ]
  },
  {
   "cell_type": "code",
   "execution_count": 5,
   "metadata": {},
   "outputs": [
    {
     "data": {
      "text/plain": [
       "{'Ery': {'b-globin': '/home/julen/TADdyn/TADdyn_tutorial/models/Ery/b-globin/Ery_b-globin_C200.0L0.0U0.0M300Res5000.TADdynDict'},\n",
       " 'Mon': {'b-globin': '/home/julen/TADdyn/TADdyn_tutorial/models/Mon/b-globin/Mon_b-globin_C200.0L-0.5U0.0M300Res5000.TADdynDict'},\n",
       " 'nCD4': {'b-globin': '/home/julen/TADdyn/TADdyn_tutorial/models/nCD4/b-globin/nCD4_b-globin_C200.0L0.0U0.0M300Res5000.TADdynDict'}}"
      ]
     },
     "execution_count": 5,
     "metadata": {},
     "output_type": "execute_result"
    }
   ],
   "source": [
    "models"
   ]
  },
  {
   "cell_type": "markdown",
   "metadata": {},
   "source": [
    "This code converts TADyn files to TADbit models file"
   ]
  },
  {
   "cell_type": "code",
   "execution_count": 7,
   "metadata": {},
   "outputs": [
    {
     "name": "stdout",
     "output_type": "stream",
     "text": [
      "/home/julen/TADdyn/TADdyn_tutorial/models/nCD4/b-globin/nCD4_b-globin_C200.0L0.0U0.0M300Res5000.TADdynDict\n",
      "/home/julen/TADdyn/TADdyn_tutorial/models/Ery/b-globin/Ery_b-globin_C200.0L0.0U0.0M300Res5000.TADdynDict\n",
      "/home/julen/TADdyn/TADdyn_tutorial/models/Mon/b-globin/Mon_b-globin_C200.0L-0.5U0.0M300Res5000.TADdynDict\n"
     ]
    }
   ],
   "source": [
    "for cell in models:\n",
    "    for regi in models[cell]:\n",
    "        fi = models[cell][regi]\n",
    "        print(fi)\n",
    "        model1 = metrics.taddynToTadbit(fi)\n",
    "        model1.save_models(fi.split('TADdynDict')[0] + 'models')"
   ]
  }
 ],
 "metadata": {
  "kernelspec": {
   "display_name": "Python 2",
   "language": "python",
   "name": "python2"
  },
  "language_info": {
   "codemirror_mode": {
    "name": "ipython",
    "version": 2
   },
   "file_extension": ".py",
   "mimetype": "text/x-python",
   "name": "python",
   "nbconvert_exporter": "python",
   "pygments_lexer": "ipython2",
   "version": "2.7.16"
  },
  "toc": {
   "base_numbering": 1,
   "nav_menu": {},
   "number_sections": true,
   "sideBar": true,
   "skip_h1_title": false,
   "title_cell": "Table of Contents",
   "title_sidebar": "Contents",
   "toc_cell": false,
   "toc_position": {},
   "toc_section_display": true,
   "toc_window_display": false
  }
 },
 "nbformat": 4,
 "nbformat_minor": 2
}
