{
 "cells": [
  {
   "cell_type": "markdown",
   "metadata": {},
   "source": [
    "# Libraries and functions "
   ]
  },
  {
   "cell_type": "code",
   "execution_count": 1,
   "metadata": {},
   "outputs": [],
   "source": [
    "from pytadbit.modelling.structuralmodels import StructuralModels,load_structuralmodels\n",
    "from pytadbit.utils.three_dim_stats import calc_eqv_rmsd\n",
    "import sys\n",
    "import os\n",
    "import cPickle as pickle"
   ]
  },
  {
   "cell_type": "markdown",
   "metadata": {},
   "source": [
    "# Parameters to modify "
   ]
  },
  {
   "cell_type": "code",
   "execution_count": 2,
   "metadata": {},
   "outputs": [],
   "source": [
    "# Base path where the folder branch is stored\n",
    "basePath = '/home/julen/TADdyn/TADdyn_tutorial/'\n",
    "# Maximum number of models to be used. From ~1500 done, we will keep the best 1000\n",
    "modelsKeep = 1000\n",
    "# Define the orther of the cells for the ploting\n",
    "orderCell = ['Ery', 'nCD4', 'Mon']\n",
    "\n",
    "# Wether to divide the analysis by model clusters\n",
    "toCluster = False\n"
   ]
  },
  {
   "cell_type": "markdown",
   "metadata": {},
   "source": [
    "# Run "
   ]
  },
  {
   "cell_type": "markdown",
   "metadata": {},
   "source": [
    "## Import additional libraries "
   ]
  },
  {
   "cell_type": "code",
   "execution_count": 3,
   "metadata": {},
   "outputs": [],
   "source": [
    "sys.path.append(basePath + 'code')\n",
    "import fileHandling\n",
    "import metrics"
   ]
  },
  {
   "cell_type": "markdown",
   "metadata": {},
   "source": [
    "## Define new paths "
   ]
  },
  {
   "cell_type": "code",
   "execution_count": 4,
   "metadata": {},
   "outputs": [],
   "source": [
    "# Output path for pickles and plots\n",
    "outdata = basePath + 'outData/modelAnalysis/model_comparisons/mergedClustering/'\n",
    "#outplot = basePath + 'outPlot/modelAnalysis/model_comparisons/mergedClustering/'\n",
    "\n",
    "# create folders\n",
    "! mkdir -p {outdata}\n",
    "#! mkdir -p {outplot}"
   ]
  },
  {
   "cell_type": "markdown",
   "metadata": {},
   "source": [
    "## Get model files and regions"
   ]
  },
  {
   "cell_type": "code",
   "execution_count": 5,
   "metadata": {},
   "outputs": [],
   "source": [
    "## Path were the models are stored\n",
    "cells, regionsAll, models = fileHandling.getModelsPaths(basePath, ending='models')\n",
    "\n",
    "## get regions\n",
    "regiones = {}\n",
    "# get info of the regions\n",
    "for cell in cells:\n",
    "    for regi in regionsAll:\n",
    "        if not regi in regiones:\n",
    "            \n",
    "            regiones[regi] = fileHandling.getREgiInfo(basePath, regi, cell)\n",
    "        else:\n",
    "            infot = fileHandling.getREgiInfo(basePath, regi, cell)\n",
    "            if infot != regiones[regi]:\n",
    "                print('Region %s, cell %s has different parameters than previous cells')\n",
    "                print('This code is not prepared to compare models with different length \\\n",
    "                      or resolution')"
   ]
  },
  {
   "cell_type": "markdown",
   "metadata": {},
   "source": [
    "## Retrieve clustering data"
   ]
  },
  {
   "cell_type": "code",
   "execution_count": 6,
   "metadata": {},
   "outputs": [],
   "source": [
    "# If we ran this script with less models, will recover the previous clustering info\n",
    "if toCluster == True:\n",
    "    clustersPickle= basePath + 'outData/modelAnalysis/clustering/allClusterDict.pickle' \n",
    "    with open(clustersPickle, \"rb\") as input_file:\n",
    "        allClusters = pickle.load(input_file)\n",
    "    print('Recovering previous clustering data from:')\n",
    "    print(clustersPickle)"
   ]
  },
  {
   "cell_type": "markdown",
   "metadata": {},
   "source": [
    "## Store xyz files of models "
   ]
  },
  {
   "cell_type": "raw",
   "metadata": {},
   "source": [
    "Will just take into account the first 2 clusters, and among them just the ones that have at least 50 models "
   ]
  },
  {
   "cell_type": "code",
   "execution_count": 7,
   "metadata": {
    "scrolled": true
   },
   "outputs": [],
   "source": [
    "# maximum number of clusters to check for extracting models\n",
    "maxCluster = 2\n",
    "# Minimum number of models that must be in a cluster to store them\n",
    "minModel = 50\n",
    "\n",
    "indexList, passFilter = metrics.writeModelCmm(regionsAll, outdata, orderCell, models,\n",
    "                 modelsKeep, toCluster=False, allClusters=None,\n",
    "                 maxCluster=2, minModel=50)"
   ]
  },
  {
   "cell_type": "code",
   "execution_count": 8,
   "metadata": {},
   "outputs": [],
   "source": [
    "# store index list in a file\n",
    "toWrite = ''\n",
    "cells = sorted(indexList[indexList.keys()[0]])\n",
    "toWrite += '\\t' + '\\t'.join(str(t) for t in cells) + '\\n'\n",
    "for regi in sorted(indexList):\n",
    "    toWrite2 = []\n",
    "    for cel in cells:\n",
    "        toWrite2 += [indexList[regi][cel][1]]\n",
    "    toWrite += '%s\\t%s\\n' %(regi, '\\t'.join(str(t) for t in toWrite2))\n",
    "    \n",
    "with open(outdata + 'indexes.tsv', 'w') as f:\n",
    "    f.write(toWrite)"
   ]
  },
  {
   "cell_type": "code",
   "execution_count": 9,
   "metadata": {},
   "outputs": [
    {
     "data": {
      "text/plain": [
       "'\\tEry\\tMon\\tnCD4\\nb-globin\\t999\\t2999\\t1999\\n'"
      ]
     },
     "execution_count": 9,
     "metadata": {},
     "output_type": "execute_result"
    }
   ],
   "source": [
    "toWrite"
   ]
  },
  {
   "cell_type": "markdown",
   "metadata": {},
   "source": [
    "## Get dRMSD values "
   ]
  },
  {
   "cell_type": "raw",
   "metadata": {},
   "source": [
    "This function might take quite long, 3 times more time than the clustering of all the models"
   ]
  },
  {
   "cell_type": "code",
   "execution_count": null,
   "metadata": {
    "scrolled": true
   },
   "outputs": [
    {
     "name": "stdout",
     "output_type": "stream",
     "text": [
      "############################## b-globin ##############################\n",
      "loaded\n"
     ]
    }
   ],
   "source": [
    "for regi in sorted(regiones):\n",
    "    print('#' * 30 + ' %s ' %regi + '#' * 30)\n",
    "    resol = regiones[regi][3]\n",
    "    dcutoff = models[orderCell[0]][regi].split('/')[-1]\n",
    "    dcutoff = float(dcutoff.split('C')[-1].split('L')[0])\n",
    "    \n",
    "    # set output path\n",
    "    outpath2 = outdata + regi + '/'\n",
    "    outfile = open(outdata + \"model_distances_%s.txt\" %regi, \"w\")\n",
    "    # load models\n",
    "    models_loaded = metrics.load_all_models(dir_models=outpath2, resolution=resol)\n",
    "    nloci = models_loaded.nloci\n",
    "\n",
    "    print 'loaded'\n",
    "    # will check all loci\n",
    "    zeros = [True]*nloci\n",
    "    \n",
    "    #Compute drmsd\n",
    "    \n",
    "    drmsd = calc_eqv_rmsd(beg=0, end=nloci, models=models_loaded, zeros=[True]*nloci, \n",
    "                          dcutoff=dcutoff, what=\"drmsd\", normed=False)\n",
    "\n",
    "    ## Write file\n",
    "    # write header\n",
    "    outfile.write(\"#%s %s %s\\n\" % (\"Model_i\",\"Model_j\",\"dRMSD\"))\n",
    "    # write each drmsd value\n",
    "    for pair in drmsd:\n",
    "        outfile.write(\"%s %s %s\\n\" % (pair[0], pair[1], drmsd[pair]))\n",
    "\n",
    "    outfile.close()"
   ]
  }
 ],
 "metadata": {
  "kernelspec": {
   "display_name": "Python 2",
   "language": "python",
   "name": "python2"
  },
  "language_info": {
   "codemirror_mode": {
    "name": "ipython",
    "version": 2
   },
   "file_extension": ".py",
   "mimetype": "text/x-python",
   "name": "python",
   "nbconvert_exporter": "python",
   "pygments_lexer": "ipython2",
   "version": "2.7.18"
  },
  "toc": {
   "base_numbering": 1,
   "nav_menu": {},
   "number_sections": true,
   "sideBar": true,
   "skip_h1_title": false,
   "title_cell": "Table of Contents",
   "title_sidebar": "Contents",
   "toc_cell": false,
   "toc_position": {},
   "toc_section_display": true,
   "toc_window_display": false
  }
 },
 "nbformat": 4,
 "nbformat_minor": 2
}
